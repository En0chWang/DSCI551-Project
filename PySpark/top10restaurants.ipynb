{
 "cells": [
  {
   "cell_type": "code",
   "execution_count": 34,
   "metadata": {},
   "outputs": [],
   "source": [
    "import json\n",
    "from pyspark.sql import SparkSession\n",
    "from pyspark import SparkConf, SparkContext, sql\n",
    "spark = SparkSession.builder.appName('Top 10 Restaurants').getOrCreate()"
   ]
  },
  {
   "cell_type": "code",
   "execution_count": 35,
   "metadata": {},
   "outputs": [],
   "source": [
    "sqlContext = SQLContext(sparkContext=spark.sparkContext, sparkSession=spark)\n",
    "# query = 'select * from restaurant_basic_info where start >= '\n",
    "source_df = sqlContext.read.format('jdbc').options(\n",
    "    url='jdbc:mysql://dsci551-project.cjy5mlvqnx2k.us-west-1.rds.amazonaws.com:3306/restaurants_info',\n",
    "    driver='com.mysql.jdbc.Driver', #com.mysql.jdbc.Driver\n",
    "    dbtable=\"(select * from restaurant_basic_info where stars >= '3.0') restaurant_basic_info\",\n",
    "    user='admin',\n",
    "    password='password').load()"
   ]
  },
  {
   "cell_type": "code",
   "execution_count": 36,
   "metadata": {},
   "outputs": [],
   "source": [
    "category_list = [0, 0, 0, 0, 0, 0, 0, 0, 1, 0, 1, 0, 0, 0, 0, 0, 0, 0, 0, 0, 0, 0, 0, 0, 0, 0, 0, 0, 0, 0, 0, 0, 0, 0, 0, 0, 0, 0, 0, 0, 0, 0, 0, 0, 0, 0, 0, 0, 0, 0, 0, 0, 0, 0, 0, 0, 0, 0, 0, 0, 0, 0, 0, 0, 0, 0, 0, 0, 0, 0, 0, 0, 0, 0, 0, 0, 0, 0, 0, 0, 0, 0, 0, 0, 0, 0, 0, 0, 0, 0, 0, 0, 0, 0, 0, 0, 0, 0, 0, 0, 0, 0, 0, 0, 0, 0, 0, 0, 0, 0, 0, 0, 0, 0, 0, 0, 0, 0, 0, 1, 0, 0, 0, 0, 0, 0, 0, 0, 0, 0, 0, 0, 0, 0, 0, 0, 0, 0, 0, 0, 0, 0, 0, 0, 0, 0, 0, 0, 0, 0, 0, 0, 0, 0, 0, 0, 0, 0, 0, 0, 0, 0, 0, 0, 0, 0, 0, 0, 0, 0, 0, 0, 0, 0, 0, 0, 0, 0, 0, 0, 0, 0, 0, 0, 0, 0, 0, 0, 0, 0, 0, 0, 0]\n",
    "vector_df = sqlContext.read.format('jdbc').options(\n",
    "    url='jdbc:mysql://dsci551-project.cjy5mlvqnx2k.us-west-1.rds.amazonaws.com:3306/restaurants_info',\n",
    "    driver='com.mysql.jdbc.Driver', #com.mysql.jdbc.Driver\n",
    "    dbtable=\"restaurant_vector\",\n",
    "    user='admin',\n",
    "    password='password').load()"
   ]
  },
  {
   "cell_type": "code",
   "execution_count": 37,
   "metadata": {},
   "outputs": [],
   "source": [
    "vector_df = vector_df.join(source_df, on=['business_id'], how='left_semi')"
   ]
  },
  {
   "cell_type": "code",
   "execution_count": 39,
   "metadata": {},
   "outputs": [],
   "source": [
    "def dot_product(x):\n",
    "    x = map(int, x.split(','))\n",
    "    return sum(i[0] * i[1] for i in zip(x, category_list))\n",
    "dot_product_df = vector_df.rdd.map(lambda row : (row['business_id'], dot_product(row[\"binary_vector\"]))).toDF([\"business_id\", \"scores\"])"
   ]
  },
  {
   "cell_type": "code",
   "execution_count": 40,
   "metadata": {},
   "outputs": [],
   "source": [
    "dot_product_df = dot_product_df.sort('scores', ascending=False).limit(10)"
   ]
  },
  {
   "cell_type": "code",
   "execution_count": 41,
   "metadata": {},
   "outputs": [],
   "source": [
    "source_df = source_df.join(dot_product_df, on=['business_id'], how='right')"
   ]
  },
  {
   "cell_type": "code",
   "execution_count": 43,
   "metadata": {},
   "outputs": [
    {
     "name": "stdout",
     "output_type": "stream",
     "text": [
      "[{'name': 'Yuki Japanese & Korean Restaurant', 'address': '3259 Dufferin St', 'state': 'ON', 'city': 'North York', 'categories': 'Japanese, Restaurants, Korean', 'stars': '3.5', 'scores': 1}, {'name': 'Sushi Ramen GO', 'address': '1495 S Higley Rd, Ste 104', 'state': 'AZ', 'city': 'Gilbert', 'categories': 'Sushi Bars, Ramen, Japanese, Restaurants', 'stars': '4.5', 'scores': 1}, {'name': 'Kaizoku', 'address': '6461 Old Monroe Rd', 'state': 'NC', 'city': 'Indian Trail', 'categories': 'Japanese, Poke, Restaurants, Food', 'stars': '4.0', 'scores': 1}, {'name': 'Sushi Bae', 'address': '4910A Rue Wellington', 'state': 'QC', 'city': 'Montréal', 'categories': 'Restaurants, Japanese, Sushi Bars', 'stars': '4.0', 'scores': 1}, {'name': 'The Ka', 'address': '2269 N Green Valley Pkwy', 'state': 'NV', 'city': 'Las Vegas', 'categories': 'Restaurants, Japanese, Sushi Bars, Asian Fusion', 'stars': '3.0', 'scores': 1}, {'name': 'Hibachi Express', 'address': '305 Herlong Ave', 'state': 'SC', 'city': 'Rock Hill', 'categories': 'Japanese, Restaurants, Chinese', 'stars': '3.0', 'scores': 1}, {'name': 'Hama Sushi', 'address': '3611 Major Mackenzie Drive W, Unit 5', 'state': 'ON', 'city': 'Vaughan', 'categories': 'Soup, Restaurants, Japanese, Sushi Bars', 'stars': '3.0', 'scores': 1}, {'name': 'Sushi 67', 'address': '67 Roncesvalles Avenue', 'state': 'ON', 'city': 'Toronto', 'categories': 'Japanese, Restaurants', 'stars': '4.0', 'scores': 1}, {'name': 'Spoon & Fork', 'address': '11 Colossus Drive, Bldg D, Unit 126', 'state': 'ON', 'city': 'Vaughan', 'categories': 'Restaurants, Japanese, Sushi Bars, Thai', 'stars': '3.0', 'scores': 1}, {'name': 'Four Star Sushi', 'address': '9200 Weston Road, Unit 15', 'state': 'ON', 'city': 'Vaughan', 'categories': 'Restaurants, Sushi Bars, Japanese', 'stars': '3.5', 'scores': 1}]\n"
     ]
    }
   ],
   "source": [
    "results = source_df[[\"name\", \"address\", \"state\", \"city\", \"categories\", \"stars\", \"scores\"]].toJSON().map(lambda j: json.loads(j)).collect()\n",
    "print(results)"
   ]
  },
  {
   "cell_type": "code",
   "execution_count": null,
   "metadata": {},
   "outputs": [],
   "source": []
  }
 ],
 "metadata": {
  "kernelspec": {
   "display_name": "Python 3",
   "language": "python",
   "name": "python3"
  },
  "language_info": {
   "codemirror_mode": {
    "name": "ipython",
    "version": 3
   },
   "file_extension": ".py",
   "mimetype": "text/x-python",
   "name": "python",
   "nbconvert_exporter": "python",
   "pygments_lexer": "ipython3",
   "version": "3.7.1"
  }
 },
 "nbformat": 4,
 "nbformat_minor": 2
}
