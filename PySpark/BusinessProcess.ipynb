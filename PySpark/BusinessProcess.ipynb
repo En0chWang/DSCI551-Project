{
 "cells": [
  {
   "cell_type": "code",
   "execution_count": 1,
   "metadata": {},
   "outputs": [],
   "source": [
    "from pyspark.sql import SparkSession\n",
    "spark = SparkSession.builder.appName('Recommendation System').getOrCreate()"
   ]
  },
  {
   "cell_type": "code",
   "execution_count": 10,
   "metadata": {},
   "outputs": [],
   "source": [
    "path = '/Users/wangyinuo/Desktop/DSCI551/project/yelp_dataset/yelp_academic_dataset_business.json'\n",
    "# path = '/Users/wangyinuo/Desktop/DSCI551/project/test.csv'\n",
    "df = spark.read.json(path)\n",
    "# df = spark.read.load(path, header = True, format = \"csv\")\n",
    "# df = spark.read.json(path, multiLine=True)"
   ]
  },
  {
   "cell_type": "code",
   "execution_count": 11,
   "metadata": {
    "scrolled": true
   },
   "outputs": [
    {
     "name": "stdout",
     "output_type": "stream",
     "text": [
      "root\n",
      " |-- address: string (nullable = true)\n",
      " |-- attributes: struct (nullable = true)\n",
      " |    |-- AcceptsInsurance: string (nullable = true)\n",
      " |    |-- AgesAllowed: string (nullable = true)\n",
      " |    |-- Alcohol: string (nullable = true)\n",
      " |    |-- Ambience: string (nullable = true)\n",
      " |    |-- BYOB: string (nullable = true)\n",
      " |    |-- BYOBCorkage: string (nullable = true)\n",
      " |    |-- BestNights: string (nullable = true)\n",
      " |    |-- BikeParking: string (nullable = true)\n",
      " |    |-- BusinessAcceptsBitcoin: string (nullable = true)\n",
      " |    |-- BusinessAcceptsCreditCards: string (nullable = true)\n",
      " |    |-- BusinessParking: string (nullable = true)\n",
      " |    |-- ByAppointmentOnly: string (nullable = true)\n",
      " |    |-- Caters: string (nullable = true)\n",
      " |    |-- CoatCheck: string (nullable = true)\n",
      " |    |-- Corkage: string (nullable = true)\n",
      " |    |-- DietaryRestrictions: string (nullable = true)\n",
      " |    |-- DogsAllowed: string (nullable = true)\n",
      " |    |-- DriveThru: string (nullable = true)\n",
      " |    |-- GoodForDancing: string (nullable = true)\n",
      " |    |-- GoodForKids: string (nullable = true)\n",
      " |    |-- GoodForMeal: string (nullable = true)\n",
      " |    |-- HairSpecializesIn: string (nullable = true)\n",
      " |    |-- HappyHour: string (nullable = true)\n",
      " |    |-- HasTV: string (nullable = true)\n",
      " |    |-- Music: string (nullable = true)\n",
      " |    |-- NoiseLevel: string (nullable = true)\n",
      " |    |-- Open24Hours: string (nullable = true)\n",
      " |    |-- OutdoorSeating: string (nullable = true)\n",
      " |    |-- RestaurantsAttire: string (nullable = true)\n",
      " |    |-- RestaurantsCounterService: string (nullable = true)\n",
      " |    |-- RestaurantsDelivery: string (nullable = true)\n",
      " |    |-- RestaurantsGoodForGroups: string (nullable = true)\n",
      " |    |-- RestaurantsPriceRange2: string (nullable = true)\n",
      " |    |-- RestaurantsReservations: string (nullable = true)\n",
      " |    |-- RestaurantsTableService: string (nullable = true)\n",
      " |    |-- RestaurantsTakeOut: string (nullable = true)\n",
      " |    |-- Smoking: string (nullable = true)\n",
      " |    |-- WheelchairAccessible: string (nullable = true)\n",
      " |    |-- WiFi: string (nullable = true)\n",
      " |-- business_id: string (nullable = true)\n",
      " |-- categories: string (nullable = true)\n",
      " |-- city: string (nullable = true)\n",
      " |-- hours: struct (nullable = true)\n",
      " |    |-- Friday: string (nullable = true)\n",
      " |    |-- Monday: string (nullable = true)\n",
      " |    |-- Saturday: string (nullable = true)\n",
      " |    |-- Sunday: string (nullable = true)\n",
      " |    |-- Thursday: string (nullable = true)\n",
      " |    |-- Tuesday: string (nullable = true)\n",
      " |    |-- Wednesday: string (nullable = true)\n",
      " |-- is_open: long (nullable = true)\n",
      " |-- latitude: double (nullable = true)\n",
      " |-- longitude: double (nullable = true)\n",
      " |-- name: string (nullable = true)\n",
      " |-- postal_code: string (nullable = true)\n",
      " |-- review_count: long (nullable = true)\n",
      " |-- stars: double (nullable = true)\n",
      " |-- state: string (nullable = true)\n",
      "\n"
     ]
    }
   ],
   "source": [
    "df.printSchema()"
   ]
  },
  {
   "cell_type": "code",
   "execution_count": 12,
   "metadata": {},
   "outputs": [
    {
     "name": "stdout",
     "output_type": "stream",
     "text": [
      "+--------------------+--------------------+--------------------+--------------------+---------------+--------------------+-------+-------------+---------------+--------------------+-----------+------------+-----+-----+\n",
      "|             address|          attributes|         business_id|          categories|           city|               hours|is_open|     latitude|      longitude|                name|postal_code|review_count|stars|state|\n",
      "+--------------------+--------------------+--------------------+--------------------+---------------+--------------------+-------+-------------+---------------+--------------------+-----------+------------+-----+-----+\n",
      "|     10913 Bailey Rd|[,,,,,,, True,, T...|f9NumwFMBDn751xgF...|Active Life, Gun/...|      Cornelius|[11:0-20:0, 10:0-...|      1|   35.4627242|    -80.8526119|The Range At Lake...|      28031|          36|  3.5|   NC|\n",
      "|8880 E Via Linda,...|[,,,,,,,,,,, True...|Yzvjg0SayhoZgCljU...|Health & Medical,...|     Scottsdale|                null|      1|   33.5694041|   -111.8902637|   Carlos Santo, NMD|      85258|           4|  5.0|   AZ|\n",
      "|3554 Rue Notre-Da...|                null|XNoUzKckATkOD1hP6...|Pets, Pet Service...|       Montreal|                null|      1|    45.479984|      -73.58007|             Felinus|    H4C 1P4|           5|  5.0|   QC|\n",
      "|      1015 Sharp Cir|[,,,,,,, True,, T...|6OAZjbxqM5ol29BuH...|Hardware Stores, ...|North Las Vegas|[7:0-16:0, 7:0-16...|      0|   36.2197281|   -115.1277255|Nevada House of Hose|      89030|           3|  2.5|   NV|\n",
      "|  4827 E Downing Cir|[,,,,,,,,, True,,...|51M2Kk903DFYI6gnB...|Home Services, Pl...|           Mesa|[9:0-16:0, 0:0-0:...|      1|   33.4280652|   -111.7266485|USE MY GUY SERVIC...|      85205|          26|  4.5|   AZ|\n",
      "|1720 W Elliot Rd,...|[,,,,,,,,, True,,...|cKyLV5oWZJ2NudWgq...|Auto Repair, Auto...|        Gilbert|[7:0-18:0, 7:0-18...|      1|   33.3503993|   -111.8271417|Oasis Auto Center...|      85233|          38|  4.5|   AZ|\n",
      "|6870 S Rainbow Bl...|[,,,,,,, True,, T...|oiAlXZPIFm2nBCt0D...|Dry Cleaning & La...|      Las Vegas|[7:0-19:0, 7:0-19...|      1|   36.0639767|    -115.241463|Green World Cleaners|      89118|          81|  3.5|   NV|\n",
      "| 6910 E Southern Ave|[,,,,,,,,, True,,...|ScYkbYNkDgCneBrD9...|Auto Repair, Oil ...|           Mesa|[7:30-17:0, 7:30-...|      1|   33.3938847|   -111.6822257|Junction Tire & A...|      85209|          18|  5.0|   AZ|\n",
      "|      404 E Green St|[,, 'none',,,,, F...|pQeaRpvuhoEqudo3u...|Ethnic Food, Food...|      Champaign|[11:30-14:30, 11:...|      1|   40.1104457|    -88.2330726| The Empanadas House|      61820|           5|  4.5|   IL|\n",
      "|700 Kipling Avenu...|[,,,,,,, False,,,...|EosRKXIGeSWFYWwpk...|Martial Arts, Gym...|        Toronto|[5:30-23:0, 5:30-...|      1|43.6245394916| -79.5291079302|      Xtreme Couture|    M8Z 5G3|          16|  3.0|   ON|\n",
      "|                    |                null|MbZMmwo-eL0Jnm_Yb...|Contractors, Land...|        Calgary|[7:0-17:0, 7:0-17...|      1|   50.9459599|   -114.0372072|Chinook Landscapi...|    T2J 2P2|           3|  5.0|   AB|\n",
      "|1110 Saw Mill Run...|[,,,,,,,,, True,,...|7Dv4_HAxsxvadEsT5...|Automotive, Auto ...|     Pittsburgh|[8:0-17:0, 8:0-17...|      1|   40.4066674|    -80.0044502|Dependable Brakes...|      15226|           5|  5.0|   PA|\n",
      "|   2831 Parmenter St|[,,,,,,, True,, T...|M_guz7Dj7hX0evS67...|Desserts, Food, I...|      Middleton|[11:0-22:0, 0:0-0...|      1|43.1053100891| -89.5101417974|Chocolate Shoppe ...|      53562|           6|  3.5|   WI|\n",
      "|116 N Roosevelt A...|[,,,,,,,,, True,,...|JjJs3o60uQCfctDjs...|Contractors, Home...|       Chandler|[9:0-16:0, 9:0-16...|      1|   33.3038687|   -111.9516598|        Convertabath|      85226|          10|  2.5|   AZ|\n",
      "|     5465 Simmons St|[,,,,,,,,, True, ...|kOICO53wbOiOJcKuC...|Beauty & Spas, Ta...|North Las Vegas|[8:0-21:0, 8:0-21...|      0|    36.263362|   -115.1798386|       Tan Las Vegas|      89031|           5|  3.5|   NV|\n",
      "|     2402 Atchley Dr|[,,,,,,,,, True,,...|rqcOZePlVvJP9Etzl...|Local Services, S...|      Henderson|[8:0-18:0, 8:0-18...|      0|   35.9520457|   -115.0934834|      Desert Storage|      89052|           5|  5.0|   NV|\n",
      "| 3131 Las Vegas Blvd|[,,,,,,, True,, T...|uZuh51lXu7tsrC8RA...|Shopping, Shoe St...|      Las Vegas|                null|      0|36.1257322229|-115.1676084101|      Manolo Blahnik|      89109|          32|  4.5|   NV|\n",
      "|2115 E Cedar St, ...|[,,,,,,,,, True,,...|nIEhsGbw0vJuYl05b...|Event Planning & ...|          Tempe|                null|      1|   33.4115139|   -111.8953784|   Bloom & Blueprint|      85281|           7|  4.5|   AZ|\n",
      "|      2915 Cherry Rd|[,,,,,,,,, True,,...|edQoeeBFUTYGwnUSE...|Auto Customizatio...|      Rock Hill|[8:0-18:0, 8:0-18...|      1|   34.9811205|    -80.9790228|            Car Guyz|      29730|          10|  4.5|   SC|\n",
      "|     5229 S Power Rd|[False,,,,,,, Tru...|Vwo64kNYDjKi98gUU...|Weight Loss Cente...|           Mesa|[5:30-20:0, 5:30-...|      1|   33.3207235|   -111.6858686|Gateway Fit Body ...|      85212|          16|  4.5|   AZ|\n",
      "+--------------------+--------------------+--------------------+--------------------+---------------+--------------------+-------+-------------+---------------+--------------------+-----------+------------+-----+-----+\n",
      "only showing top 20 rows\n",
      "\n"
     ]
    }
   ],
   "source": [
    "df.show()"
   ]
  },
  {
   "cell_type": "code",
   "execution_count": 13,
   "metadata": {
    "scrolled": true
   },
   "outputs": [
    {
     "name": "stdout",
     "output_type": "stream",
     "text": [
      "+--------------------+--------------------+\n",
      "|         business_id|          categories|\n",
      "+--------------------+--------------------+\n",
      "|f9NumwFMBDn751xgF...|[Active Life, Gun...|\n",
      "|Yzvjg0SayhoZgCljU...|[Health & Medical...|\n",
      "|XNoUzKckATkOD1hP6...|[Pets, Pet Servic...|\n",
      "|6OAZjbxqM5ol29BuH...|[Hardware Stores,...|\n",
      "|51M2Kk903DFYI6gnB...|[Home Services, P...|\n",
      "|cKyLV5oWZJ2NudWgq...|[Auto Repair, Aut...|\n",
      "|oiAlXZPIFm2nBCt0D...|[Dry Cleaning & L...|\n",
      "|ScYkbYNkDgCneBrD9...|[Auto Repair, Oil...|\n",
      "|pQeaRpvuhoEqudo3u...|[Ethnic Food, Foo...|\n",
      "|EosRKXIGeSWFYWwpk...|[Martial Arts, Gy...|\n",
      "|MbZMmwo-eL0Jnm_Yb...|[Contractors, Lan...|\n",
      "|7Dv4_HAxsxvadEsT5...|[Automotive, Auto...|\n",
      "|M_guz7Dj7hX0evS67...|[Desserts, Food, ...|\n",
      "|JjJs3o60uQCfctDjs...|[Contractors, Hom...|\n",
      "|kOICO53wbOiOJcKuC...|[Beauty & Spas, T...|\n",
      "|rqcOZePlVvJP9Etzl...|[Local Services, ...|\n",
      "|uZuh51lXu7tsrC8RA...|[Shopping, Shoe S...|\n",
      "|nIEhsGbw0vJuYl05b...|[Event Planning &...|\n",
      "|edQoeeBFUTYGwnUSE...|[Auto Customizati...|\n",
      "|Vwo64kNYDjKi98gUU...|[Weight Loss Cent...|\n",
      "+--------------------+--------------------+\n",
      "only showing top 20 rows\n",
      "\n"
     ]
    }
   ],
   "source": [
    "import pyspark.sql.functions as f\n",
    "from pyspark.sql.functions import col\n",
    "temp = df\n",
    "temp = temp.where(col(\"categories\").isNotNull()).where(col(\"business_id\").isNotNull())\n",
    "temp = temp.rdd.map(lambda row : (row['business_id'], row[\"categories\"].split(', '))).toDF([\"business_id\", \"categories\"])\n",
    "temp.show()"
   ]
  },
  {
   "cell_type": "code",
   "execution_count": 14,
   "metadata": {},
   "outputs": [
    {
     "name": "stdout",
     "output_type": "stream",
     "text": [
      "{'Butcher', 'Dog Parks', 'Home Organization', 'Truck Rental', 'Trailer Dealers', 'South African', 'Machine Shops', 'Lawyers', 'Fabric Stores', 'Cryotherapy', 'Erotic Massage', 'Bakeries', 'Hearing Aid Providers', 'Taiwanese', 'Pet Transportation', 'Roof Inspectors', 'Soul Food', 'Diagnostic Services', 'Limos', 'Performing Arts', 'Gluten-Free', 'Country Dance Halls', 'Watch Repair', 'Orthotics', 'Veterans Organizations', 'Carpet Cleaning', 'Milkshake Bars', 'Pasta Shops', 'Advertising', 'DIY Auto Shop', 'Painters', 'Racing Experience', 'Experiences', 'Insurance', 'Music Production Services', 'Grilling Equipment', 'Trainers', 'Sports Betting', 'Water Stores', 'Calligraphy', 'Pawn Shops', 'Hostels', 'Couriers & Delivery Services', 'International', 'Osteopaths', 'Aircraft Repairs', 'Delicatessen', 'Electronics', 'Tenant and Eviction Law', 'Legal Services', 'Smog Check Stations', 'Check Cashing/Pay-day Loans', 'Auto Parts & Supplies', 'Tableware', 'Self-defense Classes', 'Organic Stores', 'Interval Training Gyms', 'Department Stores', 'Furniture Stores', 'Event Photography', 'Massage Therapy', 'Dance Schools', 'Food Trucks', 'Paintball', 'Rafting/Kayaking', 'Dental Hygienists', 'Comedy Clubs', 'Neurotologists', 'Buses', 'Computers', 'Nanny Services', 'Sauna Installation & Repair', 'Midwives', 'Boat Repair', 'Auction Houses', 'Used', 'Shades & Blinds', 'Window Washing', 'Basque', 'Security Services', 'Real Estate Services', 'Pet Groomers', 'Tasting Classes', 'Handyman', 'Rest Stops', 'Discount Store', 'Bike tours', 'Guitar Stores', 'Christmas Markets', 'Traffic Ticketing Law', 'Supper Clubs', 'Sheds & Outdoor Storage', 'Champagne Bars', 'Swimwear', 'Optometrists', 'Car Rental', 'Workers Compensation Law', 'Foundation Repair', 'Shoe Repair', 'Office Cleaning', 'Speech Therapists', 'Masonry/Concrete', 'Bingo Halls', 'Scottish', 'Diving', 'Virtual Reality Centers', 'Waffles', 'Dietitians', 'Donuts', 'Auto Customization', 'Accountants', 'Floral Designers', 'Himalayan/Nepalese', 'Spin Classes', 'Challenge Courses', 'Car Wash', 'Hobby Shops', 'Hazardous Waste Disposal', 'Financial Advising', 'Fishing', 'Elevator Services', 'Kosher', 'Nephrologists', 'Saunas', 'Caribbean', 'Arabian', 'Bounce House Rentals', 'Boat Tours', 'Sledding', 'CPR Classes', 'Beach Volleyball', 'Wine Tours', 'Empanadas', 'Food Safety Training', 'Amateur Sports Teams', 'Drones', 'Signmaking', 'Irish', 'Burgers', 'Cannabis Collective', 'Commercial Real Estate', 'Books', 'Paragliding', 'Cannabis Dispensaries', 'Piano Bars', 'Clock Repair', 'Motorsport Vehicle Repairs', 'Homeopathic', 'Pub Food', 'Hainan', 'Infectious Disease Specialists', 'Food Banks', 'Damage Restoration', 'Cheerleading', 'Ice Delivery', 'Refinishing Services', 'Vegetarian', 'Italian', 'Musical Instruments & Teachers', 'Afghan', 'Tours', 'Brewing Supplies', 'Bridal', 'Doctors', 'Buddhist Temples', 'German', 'Art Installation', 'Montessori Schools', 'Dance Clubs', 'Cabaret', 'Transmission Repair', 'Catalan', 'Ultrasound Imaging Centers', 'Waldorf Schools', 'Festivals', 'Data Recovery', 'Baby Gear & Furniture', 'Surgeons', 'Sri Lankan', 'Cheese Shops', 'Threading Services', 'Gas Stations', 'Tacos', 'Country Clubs', 'Airsoft', 'Tattoo', 'Drama Schools', 'Framing', 'Backshop', 'Internal Medicine', 'Cooking Schools', 'Arcades', 'Education', 'Departments of Motor Vehicles', 'Kebab', 'Car Stereo Installation', 'Motorcycle Rental', 'Art Classes', 'Eyelash Service', 'Tubing', 'Luggage', 'Honey', 'Decks & Railing', 'Unofficial Yelp Events', 'Acupuncture', 'Flooring', 'Food', 'Street Vendors', 'LAN Centers', 'Honduran', 'Southern', 'Aviation Services', 'Holiday Decorations', 'Uzbek', 'Mortuary Services', 'Public Adjusters', 'Creperies', 'Internet Service Providers', 'Circuit Training Gyms', 'Golf Equipment', 'Television Stations', 'Lingerie', 'Battery Stores', 'Osteopathic Physicians', 'Float Spa', 'Livestock Feed & Supply', 'Hot Air Balloons', 'Churros', 'Water Delivery', 'Watches', 'Chocolatiers & Shops', 'Printing Services', \"Women's Clothing\", 'Taxis', 'Fast Food', 'Playgrounds', 'Food Tours', 'Pumpkin Patches', 'Asian Fusion', 'Colombian', 'Drywall Installation & Repair', 'Pop-Up Restaurants', 'Family Practice', 'Architectural Tours', 'Mobility Equipment Sales & Services', '& Probates', 'Wholesalers', 'Props', 'Makerspaces', 'Hydro-jetting', 'Leather Goods', 'Trampoline Parks', 'Astrologers', 'Psychics', 'Pet Breeders', 'Buffets', 'Pet Services', 'African', 'College Counseling', 'Ski Schools', 'International Grocery', 'Vegan', 'Naturopathic/Holistic', 'Bird Shops', 'Windshield Installation & Repair', 'Golf Equipment Shops', 'Water Parks', 'Wigs', 'Public Markets', 'Behavior Analysts', 'Local Flavor', 'Eritrean', 'Cardiologists', 'Colonics', 'Laboratory Testing', 'Siding', 'Venezuelan', 'Visitor Centers', 'Pet Hospice', \"Children's Clothing\", 'Fences & Gates', 'Town Car Service', 'IT Services & Computer Repair', 'Leisure Centers', 'Adoption Services', 'Landscaping', 'Rheumatologists', 'Laundromat', 'Libraries', 'Motorcycle Gear', 'Vascular Medicine', 'Hearing Aids', 'Squash', 'Beach Equipment Rentals', 'Home Developers', 'Horse Equipment Shops', 'Dentists', 'Bicycles', 'Vehicle Wraps', 'Blood & Plasma Donation Centers', 'Boat Parts & Supplies', 'RV Dealers', 'Bus Rental', 'Plus Size Fashion', 'Concept Shops', 'Foot Care', 'Commercial Truck Dealers', 'Psychiatrists', 'Childproofing', 'Bookkeepers', 'French', 'Wraps', 'Dance Wear', 'Photography Classes', 'Registration Services', 'Preventive Medicine', 'Urgent Care', 'Irrigation', 'Matchmakers', 'Hakka', 'Interior Design', 'Outdoor Gear', 'Dance Studios', 'Well Drilling', 'Tiling', 'Nail Salons', 'Swimming Lessons/Schools', 'Antiques', 'RV Parks', 'Mobile Dent Repair', 'Estate Liquidation', 'Boxing', 'Art Space Rentals', 'Pressure Washers', 'Scavenger Hunts', 'Metal Fabricators', 'Ice Cream & Frozen Yogurt', 'Apartments', 'Shanghainese', 'Herbs & Spices', 'Pet Sitting', 'Modern European', 'Educational Services', 'Special Education', 'Disability Law', 'Poutineries', 'Health Coach', 'Free Diving', 'Patio Coverings', 'Wallpapering', 'Tutoring Centers', 'Hong Kong Style Cafe', 'Home Health Care', 'Accessories', 'Hockey Equipment', 'Gymnastics', 'Counseling & Mental Health', 'Beverage Store', 'Business Financing', 'Body Contouring', 'Sleep Specialists', 'Cupcakes', 'Hunting & Fishing Supplies', 'Skilled Nursing', 'Tobacco Shops', 'Cabinetry', 'Home Automation', 'Boot Camps', 'Snorkeling', 'Junk Removal & Hauling', 'Billing Services', 'Musicians', 'Cosmetology Schools', 'Recycling Center', 'Patent Law', 'Fireworks', 'Used Bookstore', 'Pediatricians', 'Gift Shops', 'Jewelry', 'Mexican', 'Immunodermatologists', 'Wine & Spirits', 'Slovakian', 'Auto Upholstery', 'Musical Instrument Services', 'Cuban', 'Fire Protection Services', 'Airports', 'RV Repair', 'Kickboxing', 'Used Car Dealers', 'Funeral Services & Cemeteries', 'Popcorn Shops', 'Officiants', 'Grill Services', 'Gastroenterologist', 'Mongolian', 'Hats', 'Surf Shop', 'Aquariums', 'Public Services & Government', 'Ethical Grocery', 'Baseball Fields', 'Recording & Rehearsal Studios', 'Lice Services', 'Auto Security', 'Hotels', 'Tonkatsu', 'Hookah Bars', 'Meat Shops', 'Photography Stores & Services', 'Shaved Snow', 'Newspapers & Magazines', 'Editorial Services', 'Sugar Shacks', 'Audio/Visual Equipment Rental', 'Hospitals', 'Mortgage Brokers', 'Airlines', 'Medical Cannabis Referrals', 'Safety Equipment', 'Marinas', 'Tabletop Games', 'Car Brokers', 'Ranches', 'Gardeners', 'American (New)', 'Mountain Biking', 'Yoga', 'Speakeasies', 'Bankruptcy Law', 'Art Schools', 'Horseback Riding', 'Drive-Thru Bars', 'Skate Shops', 'General Litigation', 'Puerto Rican', 'Shared Office Spaces', 'Sports Psychologists', 'Concierge Medicine', 'Heating & Air Conditioning/HVAC', 'CSA', 'Peruvian', 'Tax Services', 'Shoe Stores', 'Dog Walkers', 'Studio Taping', 'Awnings', 'Dumpster Rental', 'Bail Bondsmen', 'Art Tours', 'Game Meat', 'Colleges & Universities', 'Travel Agents', 'Tanning', 'Seafood', 'Fuel Docks', 'Imported Food', 'Bike Repair', 'Walking Tours', 'Entertainment Law', 'Social Clubs', 'Rock Climbing', 'Appliances & Repair', 'Graphic Design', 'Utilities', 'Arts & Crafts', 'Senegalese', 'Biohazard Cleanup', 'Waterproofing', 'Hiking', 'Prenatal/Perinatal Care', 'Noodles', 'Conveyor Belt Sushi', 'Toy Stores', 'Australian', 'Flea Markets', 'Nurseries & Gardening', 'Shipping Centers', 'Waxing', 'Scuba Diving', 'Pick Your Own Farms', 'Horse Boarding', 'Wills', 'Parking', 'Eyewear & Opticians', 'Cardio Classes', 'Drive-In Theater', 'Countertop Installation', 'Habilitative Services', 'Meaderies', 'Body Shops', 'Skin Care', 'Teeth Whitening', 'Travel Services', 'Juice Bars & Smoothies', 'Cheesesteaks', 'Garage Door Services', 'Firearm Training', 'Keys & Locksmiths', 'DJs', 'Beach Bars', 'Pet Stores', 'Hawaiian', 'Vehicle Shipping', 'Rolfing', 'Television Service Providers', 'Qi Gong', 'Sugaring', 'Museums', 'Business Law', 'Wine Tasting Room', 'Pet Insurance', 'Food Court', 'Cafes', 'Tapas/Small Plates', 'Acai Bowls', 'Hydroponics', 'Middle Eastern', 'Eatertainment', 'Jazz & Blues', 'Reunion', 'Chinese Martial Arts', 'Rugs', 'Austrian', 'Fencing Clubs', 'Sandwiches', 'Sports Bars', 'Personal Care Services', 'Event Planning & Services', 'Professional Services', 'Vocational & Technical School', 'Pizza', 'Outdoor Power Equipment Services', 'Udon', 'Motorcycle Parts & Supplies', '3D Printing', 'Mauritius', 'Jet Skis', 'Latin American', 'Chiropractors', 'Pop-up Shops', 'Ukrainian', 'Furniture Repair', 'Axe Throwing', 'Doulas', 'Furniture Assembly', 'Personal Assistants', 'Clothing Rental', 'Stonemasons', 'Retirement Homes', 'Home Energy Auditors', 'Immigration Law', 'Party Supplies', 'Street Art', 'Turkish', 'Title Loans', 'Recreation Centers', 'Social Security Law', 'Appraisal Services', 'Oncologist', 'Gyms', 'Bars', 'Mobile Home Dealers', 'Office Equipment', 'Car Share Services', 'Placenta Encapsulations', 'Preschools', 'Sikh Temples', 'Knife Sharpening', 'Currency Exchange', 'Pubs', 'Trinidadian', 'Walk-in Clinics', 'Hot Pot', 'Crisis Pregnancy Centers', 'Bungee Jumping', 'Brazilian Jiu-jitsu', 'Mediators', 'Opera & Ballet', 'TV Mounting', 'Vape Shops', 'Firewood', 'Whiskey Bars', 'Middle Schools & High Schools', 'Holistic Animal Care', 'Dinner Theater', 'Pet Waste Removal', 'Prosthetics', 'Valet Services', 'Iberian', 'Fondue', 'Bookstores', 'Linens', 'Muay Thai', 'Bowling', 'Personal Shopping', 'Environmental Testing', 'Nudist', 'Calabrian', 'Paint-Your-Own Pottery', 'Persian/Iranian', 'Pancakes', 'Donairs', 'Car Inspectors', 'Irish Pub', 'Tennis', 'Demolition Services', 'Mobile Phone Repair', 'Machine & Tool Rental', 'Carousels', 'Delis', 'Trailer Repair', 'Bus Stations', 'Pet Training', 'IP & Internet Law', 'Mattresses', 'Gerontologists', 'Indoor Landscaping', 'Basketball Courts', 'Donation Center', 'Internet Cafes', 'Public Art', 'Chimney Sweeps', 'Do-It-Yourself Food', 'Cards & Stationery', 'Laser Eye Surgery/Lasik', 'Smokehouse', 'Video/Film Production', 'Undersea/Hyperbaric Medicine', 'Electricity Suppliers', 'Estheticians', 'Bus Tours', 'Historical Tours', 'Party Characters', 'Civic Center', 'Tui Na', 'University Housing', 'Skate Parks', 'Apartment Agents', 'Homeowner Association', 'Electronics Repair', 'Laundry Services', 'Windows Installation', 'Ethnic Grocery', 'Barbers', 'Sex Therapists', 'Fingerprinting', 'Audiologist', 'Grocery', 'Plumbing', 'Beer Bar', 'Soccer', 'Beer Garden', 'Candle Stores', 'Commercial Truck Repair', 'Personal Chefs', 'Spanish', 'Veterinarians', 'Pole Dancing Classes', 'Structural Engineers', 'Mailbox Centers', 'Czech', 'Gastropubs', 'Live/Raw Food', 'Bartenders', 'Elder Law', 'Bike Rentals', 'Cannabis Tours', 'Fruits & Veggies', 'Herbal Shops', 'Dry Cleaning', 'Supernatural Readings', 'Jewelry Repair', 'Carpet Installation', 'Divorce & Family Law', 'ATV Rentals/Tours', 'Animal Shelters', 'Photo Booth Rentals', 'Pan Asian', 'Indian', 'Farms', 'Canadian (New)', 'Military Surplus', 'Gemstones & Minerals', 'Cheese Tasting Classes', 'Home Decor', 'Minho', 'Music & Video', 'Public Transportation', 'Private Schools', 'Kitchen & Bath', 'Photographers', 'Translation Services', 'Cannabis Clinics', 'Gun/Rifle Ranges', 'Hypnosis/Hypnotherapy', 'Clowns', 'Fire Departments', 'Community Gardens', 'Outlet Stores', 'Thai', 'Bar Crawl', 'Coffeeshops', 'Food Delivery Services', 'Marketing', 'Nicaraguan', 'Mobile Phones', 'Wildlife Hunting Ranges', 'Fish & Chips', 'Cocktail Bars', 'Perfume', 'Adult', 'Bike Repair/Maintenance', 'Desserts', 'Salvadoran', 'Health & Medical', 'Beer Hall', 'Massage', 'Hair Removal', 'Chicken Shop', 'Cinema', 'Outdoor Furniture Stores', 'Dive Shops', 'Bulgarian', 'Diners', 'Bistros', 'Police Departments', 'Karaoke', 'Fireplace Services', 'Mobile Clinics', 'Real Estate Photography', 'Farmers Market', 'Makeup Artists', 'Court Reporters', 'Stadiums & Arenas', 'Olive Oil', 'Island Pub', 'Team Building Activities', 'Reflexology', 'EV Charging Stations', 'Custom Cakes', 'Glass Blowing', 'Laser Tag', 'Macarons', 'Boat Charters', 'Summer Camps', \"Men's Clothing\", 'Emergency Rooms', 'Poke', 'Crane Services', 'Pet Photography', 'Pulmonologist', 'Hot Dogs', 'Scandinavian', 'Sandblasting', 'Portuguese', 'Driving Schools', 'Urologists', 'Investing', 'Hair Stylists', 'Hotel bar', 'Auto Detailing', 'Nutritionists', 'Carpet Dyeing', 'Psychic Mediums', 'Traffic Schools', 'Child Care & Day Care', 'Laotian', 'Bikes', 'Web Design', 'Signature Cuisine', 'Venues & Event Spaces', 'Churches', 'Dermatologists', 'Head Shops', 'Shoe Shine', 'Syrian', 'Sushi Bars', 'Storefront Clinics', 'Golf', 'General Festivals', 'Diamond Buyers', 'Fitness/Exercise Equipment', 'Go Karts', 'Coffee & Tea Supplies', 'Snow Removal', 'Pickleball', 'Candy Stores', 'Art Galleries', 'Endodontists', 'Farming Equipment', 'Religious Organizations', 'Acne Treatment', 'Community Service/Non-Profit', 'Armenian', 'Life Coach', 'Pakistani', 'Club Crawl', 'Cafeteria', 'Lighting Fixtures & Equipment', 'Motorcycle Dealers', 'Halfway Houses', 'Pets', 'Post Offices', 'Sports Medicine', 'Hepatologists', 'Ear Nose & Throat', 'Surfing', 'Screen Printing', 'Safe Stores', 'Videos & Video Game Rental', 'Air Duct Cleaning', 'Private Jet Charter', 'Holiday Decorating Services', 'Hang Gliding', 'Attraction Farms', 'Furniture Reupholstery', 'Proctologists', 'Hospice', 'Striptease Dancers', 'Drugstores', 'Taekwondo', 'Halotherapy', 'Passport & Visa Services', 'Home & Garden', 'Car Window Tinting', 'Health Insurance Offices', 'Duplication Services', 'Cultural Center', 'Excavation Services', 'Sports Clubs', 'Market Stalls', 'Neurologist', 'Day Camps', 'Observatories', 'Pain Management', 'Sicilian', 'Embassy', 'Motorcycle Repair', 'Kids Activities', 'Filipino', 'Batting Cages', 'Carpenters', 'Business Consulting', 'Water Purification Services', 'Cambodian', 'Paddleboarding', 'Pool Cleaners', 'Vacation Rental Agents', 'Traditional Clothing', 'Polynesian', 'Amusement Parks', 'Mortgage Lenders', 'Swiss Food', 'Synagogues', 'Active Life', 'Kombucha', 'Specialty Food', 'Duty-Free Shops', 'Self Storage', 'Landmarks & Historical Buildings', 'Russian', 'Oaxacan', 'Race Tracks', 'Elementary Schools', 'Parks', 'Airport Shuttles', 'Pediatric Dentists', 'Hotels & Travel', 'Emergency Medicine', 'Bocce Ball', 'Horse Racing', 'Auto Insurance', 'Skating Rinks', 'Ticket Sales', 'Piercing', 'Pet Boarding', 'Scooter Tours', 'Door Sales/Installation', 'Breakfast & Brunch', 'Wedding Planning', 'Belgian', 'Vinyl Records', 'Home & Rental Insurance', 'Petting Zoos', 'Outdoor Movies', 'Seafood Markets', 'Botanical Gardens', 'American (Traditional)', 'Falafel', 'Local Services', 'Dialysis Clinics', 'Races & Competitions', 'Geneticists', 'Gay Bars', 'Neuropathologists', 'Anesthesiologists', 'Laser Hair Removal', 'Periodontists', 'Reptile Shops', 'Propane', 'Guamanian', 'Train Stations', 'Brasseries', 'Soup', 'Shopping Centers', 'Condominiums', 'Pool & Billiards', 'Mags', 'Municipality', 'Interlock Systems', 'Wineries', 'Adult Entertainment', 'Beer Tours', 'Blow Dry/Out Services', 'Environmental Abatement', 'Car Auctions', 'Home Cleaning', 'Cycling Classes', 'Hair Salons', 'Radiologists', 'Eyebrow Services', 'Soba', 'Tree Services', 'Glass & Mirrors', 'Insulation Installation', 'Day Spas', 'Escape Games', 'Egyptian', 'Sporting Goods', 'Otologists', 'Metro Stations', 'Flight Instruction', 'Estate Planning Law', 'Beauty & Spas', 'Lebanese', 'Uniforms', 'Orthodontists', 'Home Theatre Installation', 'Nurse Practitioner', 'Cosmetics & Beauty Supply', 'Plastic Surgeons', 'Contractors', 'Art Restoration', 'Gutter Services', 'Specialty Schools', 'Wheel & Rim Repair', 'Beaches', 'Bubble Tea', 'Contract Law', 'Skiing', 'Screen Printing/T-Shirt Printing', 'Professional Sports Teams', 'Hardware Stores', 'Architects', 'Pest Control', 'House Sitters', 'Podiatrists', 'Salad', 'Polish', 'Home Network Installation', 'Financial Services', 'Mini Golf', 'Shredding Services', 'Motorsport Vehicle Dealers', 'Shaved Ice', 'Consumer Law', 'Car Buyers', 'Local Fish Stores', 'Zoos', 'Notaries', 'Portable Toilet Services', 'Towing', 'Career Counseling', 'Sports Wear', 'Mediterranean', 'Gold Buyers', 'Kids Hair Salons', 'Homeless Shelters', 'Reiki', 'Physical Therapy', 'Sewing & Alterations', 'Kiosk', 'Moroccan', 'Prosthodontists', 'Art Museums', 'Vacation Rentals', 'Digitizing Services', 'Process Servers', 'Bookbinding', 'Alternative Medicine', 'Obstetricians & Gynecologists', 'Car Dealers', 'Medical Centers', 'Test Preparation', 'Resorts', 'Japanese Sweets', 'Guns & Ammo', 'Tattoo Removal', 'Trivia Hosts', 'Ayurveda', 'Pool & Hot Tub Service', 'Restaurants', 'Gelato', 'Singaporean', 'Commissioned Artists', 'Dim Sum', 'Aquarium Services', 'Fertility', 'Luggage Storage', 'Tempura', 'Haitian', 'Feng Shui', 'Junkyards', 'Piano Services', 'Face Painting', 'Vitamins & Supplements', 'Haunted Houses', 'Archery', 'Dominican', 'Wedding Chapels', 'Beer Gardens', 'Auto Repair', 'Coffee & Tea', 'Language Schools', 'Powder Coating', 'Boudoir Photography', 'Comfort Food', 'Pathologists', 'Disc Golf', 'Oil Change Stations', 'Real Estate', 'Psychologists', 'Flowers & Gifts', 'Endocrinologists', 'Home Staging', 'Landscape Architects', 'Dive Bars', 'Weight Loss Centers', 'Reproductive Health Services', 'Bagels', 'Solar Installation', 'British', \"Children's Museums\", 'Roadside Assistance', 'Christmas Trees', 'Party Bike Rentals', 'Dry Cleaning & Laundry', 'Religious Schools', 'Roofing', 'Wine Bars', 'Shutters', 'Tickets', 'Addiction Medicine', 'Convenience Stores', 'Malaysian', 'RV Rental', 'Jails & Prisons', 'Hybrid Car Repair', 'Grout Services', 'Chinese', 'Pilates', 'Telecommunications', 'Packing Supplies', 'Spine Surgeons', 'Golf Cart Dealers', 'Taxidermy', 'Paint Stores', 'Lounges', 'Medical Spas', 'Chimney Cakes', 'Bartending Schools', 'Cajun/Creole', 'Radio Stations', 'Japanese Curry', 'Pita', 'Formal Wear', 'Distilleries', 'Shopping', 'Customized Merchandise', 'Real Estate Agents', 'Tax Law', 'Food Stands', 'Nightlife', 'Real Estate Law', 'Video Game Stores', 'Dumplings', 'Teacher Supplies', 'Banks & Credit Unions', 'Hair Extensions', 'Mobile Home Parks', 'Ziplining', 'Pharmacy', 'Building Supplies', 'Personal Injury Law', 'Orthopedists', 'Tiki Bars', 'Furniture Rental', 'Misting System Services', 'Traditional Chinese Medicine', 'Generator Installation/Repair', 'Memory Care', 'Property Management', 'Water Suppliers', 'Pretzels', 'Product Design', 'Aircraft Dealers', 'Security Systems', 'Packing Services', 'Talent Agencies', 'Employment Law', 'Tuscan', 'Party & Event Planning', 'Indoor Playcentre', 'Backflow Services', 'Ethiopian', 'Oral Surgeons', 'Barbeque', 'Bike Sharing', 'Gunsmith', 'Golf Lessons', 'Tanning Beds', 'Thrift Stores', 'Vietnamese', 'Cooking Classes', 'Japanese', 'Videographers', 'High Fidelity Audio Equipment', 'Carpeting', 'New Mexican Cuisine', 'Health Markets', 'Fur Clothing', 'IV Hydration', 'Parenting Classes', 'Playsets', 'Payroll Services', 'Hydrotherapy', 'DUI Law', 'Patisserie/Cake Shop', 'Yelp Events', 'Brewpubs', 'Trusts', 'Tapas Bars', 'Piano Stores', 'Service Stations', 'Home Services', 'Senior Centers', 'Hot Tub & Pool', 'Ceremonial Clothing', \"Men's Hair Salons\", 'Adult Education', 'Home Inspectors', 'Airport Lounges', 'Farm Equipment Repair', 'Occupational Therapy', 'Retina Specialists', 'Comic Books', 'Animal Physical Therapy', 'Lighting Stores', 'Campgrounds', 'Solar Panel Cleaning', 'Meditation Centers', 'Wine Tasting Classes', 'Henna Artists', 'Bike Shop', 'Tea Rooms', 'Szechuan', 'Trophy Shops', 'Trailer Rental', 'Flowers', 'Pet Adoption', 'Registry Office', 'Cigar Bars', 'Water Heater Installation/Repair', 'Silent Disco', 'Animal Assisted Therapy', 'Eastern European', 'Beer', 'Town Hall', 'Diagnostic Imaging', 'Natural Gas Suppliers', 'Costumes', 'Medical Transportation', 'Hindu Temples', 'Spiritual Shop', 'Czech/Slovakian', 'Ski Resorts', 'Movers', 'Guest Houses', 'Permanent Makeup', 'Pool Halls', 'Aestheticians', 'Lawn Services', 'Septic Services', 'Debt Relief Services', 'Party Bus Rentals', 'Tex-Mex', 'Wholesale Stores', 'Ethnic Food', 'First Aid Classes', 'Chicken Wings', 'Sunglasses', 'Party Equipment Rentals', 'Bespoke Clothing', 'Pet Cremation Services', 'Fitness & Instruction', 'Boating', 'Burmese', 'Cantonese', 'Home Window Tinting', 'Lactation Services', 'Florists', 'Auto Loan Providers', 'Bike Parking', 'Mosques', 'Auto Glass Services', 'Music & DVDs', 'Public Relations', 'Speech Training', 'Kitchen Supplies', 'Childbirth Education', 'Greek', 'Steakhouses', 'Bubble Soccer', 'Land Surveying', 'Criminal Defense Law', 'Coffee Roasteries', 'Medical Foot Care', 'Caterers', 'Transportation', 'Barre Classes', 'Installment Loans', 'Climbing', 'Magicians', 'Knitting Supplies', 'Phlebologists', 'Private Investigation', 'Bangladeshi', 'Fashion', 'Toxicologists', 'Paint & Sip', 'Electricians', 'Elder Care Planning', 'Automotive', 'Oxygen Bars', 'Appliances', 'Life Insurance', 'General Dentistry', 'Music Venues', 'Arts & Entertainment', 'Bed & Breakfast', 'Nail Technicians', 'Casinos', 'Surf Schools', 'Stucco Services', 'Badminton', 'Embroidery & Crochet', 'Art Consultants', 'Religious Items', 'Allergists', 'Emergency Pet Hospital', 'Print Media', 'Martial Arts', 'Engraving', 'Indonesian', 'Planetarium', 'Aerial Tours', 'Community Centers', 'Brazilian', 'Spray Tanning', 'Flyboarding', 'Health Retreats', 'Pedicabs', 'Cosmetic Surgeons', 'Hungarian', 'Cideries', 'Cremation Services', 'Themed Cafes', 'Skydiving', 'Boat Dealers', 'Souvenir Shops', 'Caricatures', 'Sailing', 'Employment Agencies', 'Mobile Phone Accessories', 'Restaurant Supplies', 'Mobile Home Repair', 'Ramen', 'Tires', 'Trains', 'Kitchen Incubators', 'Hair Loss Centers', 'Tai Chi', 'Strip Clubs', 'Assisted Living Facilities', 'Swimming Pools', 'Massage Schools', 'Sport Equipment Hire', 'Maternity Wear', 'Aerial Fitness', 'Ski & Snowboard Shops', 'Software Development', 'Artificial Turf', 'Rotisserie Chicken', 'Medical Law', 'Game Truck Rental', 'Halal', 'Korean', 'Ophthalmologists', 'Rodeo', 'Karate', 'Golf Cart Rentals', 'Lakes', 'Courthouses', 'Scooter Rentals', 'Balloon Services', 'Vocal Coach', 'Cosmetic Dentists', 'Airport Terminals', 'Medical Supplies', 'Art Supplies', 'Mass Media', 'Auto Electric Services', 'Private Tutors', 'Argentine', 'Vintage & Consignment', 'Teppanyaki', 'Rehabilitation Center', 'Breweries', 'Nursing Schools', 'Wildlife Control', 'Izakaya', 'Session Photography', 'Customs Brokers'}\n"
     ]
    }
   ],
   "source": [
    "import pyspark.sql.functions as f\n",
    "ls = temp.select(f.collect_list(temp.categories).alias('r')).collect()\n",
    "ss = set()\n",
    "for e in ls[0][0]:\n",
    "    for ee in e:\n",
    "        ss.add(ee)\n",
    "print(ss)"
   ]
  },
  {
   "cell_type": "code",
   "execution_count": 15,
   "metadata": {},
   "outputs": [
    {
     "name": "stdout",
     "output_type": "stream",
     "text": [
      "+-------------+-------------------+\n",
      "|      parents|              title|\n",
      "+-------------+-------------------+\n",
      "|localservices|        3D Printing|\n",
      "|      italian|          Abruzzese|\n",
      "|         bars|      Absinthe Bars|\n",
      "|         food|         Acai Bowls|\n",
      "|      fashion|        Accessories|\n",
      "| professional|        Accountants|\n",
      "|    beautysvc|     Acne Treatment|\n",
      "|             |        Active Life|\n",
      "|       health|        Acupuncture|\n",
      "|   physicians| Addiction Medicine|\n",
      "|localservices|  Adoption Services|\n",
      "|     shopping|              Adult|\n",
      "|    education|    Adult Education|\n",
      "|    nightlife|Adult Entertainment|\n",
      "| professional|        Advertising|\n",
      "|      fitness|     Aerial Fitness|\n",
      "|        tours|       Aerial Tours|\n",
      "|   medicalspa|      Aestheticians|\n",
      "|  restaurants|             Afghan|\n",
      "|  restaurants|            African|\n",
      "+-------------+-------------------+\n",
      "only showing top 20 rows\n",
      "\n",
      "+-----------+--------------------+\n",
      "|    parents|               title|\n",
      "+-----------+--------------------+\n",
      "|       food|          Acai Bowls|\n",
      "|restaurants|              Afghan|\n",
      "|restaurants|             African|\n",
      "|restaurants|          Andalusian|\n",
      "|restaurants|             Arabian|\n",
      "|restaurants|           Argentine|\n",
      "|restaurants|            Armenian|\n",
      "|restaurants|        Asian Fusion|\n",
      "|restaurants|            Asturian|\n",
      "|restaurants|          Australian|\n",
      "|restaurants|            Austrian|\n",
      "|       food|            Backshop|\n",
      "|       food|              Bagels|\n",
      "|restaurants|           Baguettes|\n",
      "|       food|            Bakeries|\n",
      "|restaurants|         Bangladeshi|\n",
      "|restaurants|              Basque|\n",
      "|restaurants|            Bavarian|\n",
      "|restaurants|            Barbeque|\n",
      "|       food|Beer, Wine & Spirits|\n",
      "+-----------+--------------------+\n",
      "only showing top 20 rows\n",
      "\n"
     ]
    }
   ],
   "source": [
    "yelp_category_json_path = '/Users/wangyinuo/Desktop/DSCI551/project/categories.json'\n",
    "json_df = spark.read.json(yelp_category_json_path, multiLine=True)\n",
    "json_df = json_df.select(json_df['parents'], json_df['title'])\n",
    "json_df = json_df.rdd.map(lambda row : (','.join(row['parents']), row['title'])).toDF([\"parents\", 'title'])\n",
    "json_df.show()\n",
    "json_df = json_df.filter(\"parents LIKE '%restaurants%' or parents LIKE '%food%'\")\n",
    "json_df.show()"
   ]
  },
  {
   "cell_type": "code",
   "execution_count": 16,
   "metadata": {},
   "outputs": [
    {
     "name": "stdout",
     "output_type": "stream",
     "text": [
      "+----------------+--------------------+\n",
      "|         parents|              titles|\n",
      "+----------------+--------------------+\n",
      "|            food|[Acai Bowls, Back...|\n",
      "|     restaurants|[Afghan, African,...|\n",
      "|   food,shopping|             [Kiosk]|\n",
      "|food,restaurants|      [Parent Cafes]|\n",
      "|       arts,food|          [Wineries]|\n",
      "+----------------+--------------------+\n",
      "\n"
     ]
    }
   ],
   "source": [
    "json_df = json_df.groupBy('parents').agg(f.collect_list('title').alias('titles'))\n",
    "json_df.show()"
   ]
  },
  {
   "cell_type": "code",
   "execution_count": 17,
   "metadata": {},
   "outputs": [],
   "source": [
    "category_ls = json_df.select(f.collect_list(json_df.titles).alias('r')).collect()"
   ]
  },
  {
   "cell_type": "code",
   "execution_count": 18,
   "metadata": {},
   "outputs": [
    {
     "name": "stdout",
     "output_type": "stream",
     "text": [
      "{'Butcher', 'Dumplings', 'Fondue', 'Laotian', 'Flatbread', 'Waffles', 'Cambodian', 'Pan Asian', 'Indian', 'German', 'Laos', 'Traditional Swedish', 'Fishmonger', 'Signature Cuisine', 'Andalusian', 'Shaved Snow', 'Basque', 'Polynesian', 'Juice Bars & Smoothies', 'Persian/Iranian', 'Canadian (New)', 'Sugar Shacks', 'Indonesian', 'Cheesesteaks', 'Donairs', 'Lyonnais', 'Brazilian', 'Swiss Food', 'Catalan', 'Bakeries', 'Kombucha', 'Specialty Food', 'Taiwanese', 'Coffee & Tea', 'Soul Food', 'Black Sea', 'Eastern European', 'Hungarian', 'Buffets', 'Cideries', 'Delis', 'Gluten-Free', 'American (New)', 'Zapiekanka', 'Russian', 'Comfort Food', 'African', 'Hawaiian', 'International Grocery', 'Danish', 'Somali', 'Sri Lankan', 'Fischbroetchen', 'Milkshake Bars', 'Syrian', 'Sushi Bars', 'Ice Cream & Frozen Yogurt', 'Supper Clubs', 'Czech/Slovakian', 'Backshop', 'Oriental', 'Kopitiam', 'Yugoslav', 'Vegan', 'Bavarian', 'Food Court', 'Piadina', 'Night Food', 'Cafes', 'Milk Bars', 'Food Delivery Services', 'Tabernas', 'Thai', 'Chilean', 'Nicaraguan', 'Pretzels', 'Romanian', 'Bubble Tea', 'Kebab', 'Modern European', 'Scottish', 'Tapas/Small Plates', 'Acai Bowls', 'Coffee & Tea Supplies', 'Panzerotti', 'Fish & Chips', 'Middle Eastern', 'CSA', 'Peruvian', 'Internet Cafes', 'Poutineries', 'Venison', 'Canteen', 'Austrian', 'Bagels', 'Sandwiches', 'Hong Kong Style Cafe', 'Tortillas', 'Bento', 'Giblets', 'Donuts', 'Breakfast & Brunch', 'Do-It-Yourself Food', 'British', 'Polish', 'Honey', 'Eritrean', 'Salad', 'Tex-Mex', 'Game Meat', 'Desserts', 'Belgian', 'Norcinerie', 'Beer, Wine & Spirits', 'Pizza', 'Beverage Store', 'French Southwest', 'Corsican', 'Armenian', 'Ethiopian', 'Parent Cafes', 'Pakistani', 'Chicken Wings', 'Seafood', 'Street Vendors', 'Cafeteria', 'New Zealand', 'Honduran', 'Southern', 'Smokehouse', 'Barbeque', 'Freiduria', 'Himalayan/Nepalese', 'Cypriot', 'Uzbek', 'Water Stores', 'Imported Food', 'Beer Hall', 'American (Traditional)', 'Hawker Centre', 'Cupcakes', 'Mulled Wine', 'Latin American', 'Ukrainian', 'Shaved Ice', 'Galician', 'Heuriger', 'Salumerie', 'Creperies', 'Chicken Shop', 'Modern Australian', 'International', 'Burmese', 'Georgian', 'Wok', 'Delicatessen', 'Nikkei', 'Rotisserie Chicken', 'Kosher', 'Vietnamese', 'Bulgarian', 'Diners', 'Bistros', 'Japanese', 'Israeli', 'Caribbean', 'Convenience Stores', 'Malaysian', 'Mediterranean', 'Arabian', 'Turkish', 'Halal', 'Farmers Market', 'Asturian', 'Mexican', 'New Mexican Cuisine', 'Chinese', 'Korean', 'Greek', 'Steakhouses', 'Kiosk', 'Slovakian', 'Grocery', 'Organic Stores', 'Moroccan', 'Island Pub', 'Churros', 'Noodles', 'Coffee Roasteries', 'Guamanian', 'Custom Cakes', 'Swabian', 'Torshi', 'Patisserie/Cake Shop', 'Tavola Calda', 'Brasseries', 'Food Trucks', 'Empanadas', 'Beer Garden', 'Cuban', 'Kurdish', 'Australian', 'Traditional Norwegian', 'Nasi Lemak', 'Rice', 'Trattorie', 'Soup', 'Irish', 'Burgers', 'Potatoes', 'Tapas Bars', 'PF/Comercial', 'Chimney Cakes', 'Open Sandwiches', 'Bangladeshi', 'Serbo Croatian', 'Spanish', 'Parma', 'Curry Sausage', 'Poke', 'Baguettes', 'Cajun/Creole', 'Czech', 'Gastropubs', 'Fast Food', 'Japanese Sweets', 'Wineries', 'Friterie', 'Hot Dogs', 'Hot Pot', 'Meatballs', 'Argentine', 'Pita', 'Scandinavian', 'Distilleries', 'Beisl', 'Portuguese', 'Live/Raw Food', 'Mongolian', 'Pub Food', 'Schnitzel', 'Swedish', 'Asian Fusion', 'Gelato', 'French', 'Breweries', 'Wraps', 'Filipino', 'Singaporean', 'Pop-Up Restaurants', 'Food Stands', 'Ethical Grocery', 'Meaderies', 'Dinner Theater', 'Jewish', 'Vegetarian', 'Italian', 'Afghan', 'Tea Rooms', 'Iberian'}\n"
     ]
    }
   ],
   "source": [
    "category_ss = set()\n",
    "for e in category_ls[0][0]:\n",
    "    for ee in e:\n",
    "        category_ss.add(ee)\n",
    "print(category_ss)"
   ]
  },
  {
   "cell_type": "code",
   "execution_count": 19,
   "metadata": {},
   "outputs": [
    {
     "name": "stdout",
     "output_type": "stream",
     "text": [
      "{'Butcher', 'Dumplings', 'Fondue', 'Laotian', 'Cambodian', 'Pan Asian', 'Indian', 'German', 'Signature Cuisine', 'Basque', 'Polynesian', 'Shaved Snow', 'Juice Bars & Smoothies', 'Persian/Iranian', 'Canadian (New)', 'Sugar Shacks', 'Indonesian', 'Cheesesteaks', 'Donairs', 'Brazilian', 'Swiss Food', 'Catalan', 'Bakeries', 'Kombucha', 'Specialty Food', 'Taiwanese', 'Coffee & Tea', 'Soul Food', 'Eastern European', 'Hungarian', 'Buffets', 'Cideries', 'Delis', 'Gluten-Free', 'American (New)', 'Russian', 'Comfort Food', 'African', 'Hawaiian', 'International Grocery', 'Sri Lankan', 'Milkshake Bars', 'Syrian', 'Sushi Bars', 'Supper Clubs', 'Ice Cream & Frozen Yogurt', 'Czech/Slovakian', 'Backshop', 'Vegan', 'Food Court', 'Thai', 'Cafes', 'Food Delivery Services', 'Nicaraguan', 'Pretzels', 'Bubble Tea', 'Kebab', 'Modern European', 'Scottish', 'Tapas/Small Plates', 'Acai Bowls', 'Coffee & Tea Supplies', 'Fish & Chips', 'Middle Eastern', 'CSA', 'Peruvian', 'Internet Cafes', 'Poutineries', 'Austrian', 'Bagels', 'Sandwiches', 'Hong Kong Style Cafe', 'Tex-Mex', 'Waffles', 'Donuts', 'Breakfast & Brunch', 'Do-It-Yourself Food', 'British', 'Polish', 'Honey', 'Eritrean', 'Salad', 'Game Meat', 'Desserts', 'Belgian', 'Pizza', 'Beverage Store', 'Armenian', 'Ethiopian', 'Pakistani', 'Chicken Wings', 'Seafood', 'Street Vendors', 'Cafeteria', 'Honduran', 'Southern', 'Smokehouse', 'Barbeque', 'Himalayan/Nepalese', 'Uzbek', 'Water Stores', 'Imported Food', 'Beer Hall', 'American (Traditional)', 'Cupcakes', 'Latin American', 'Ukrainian', 'Shaved Ice', 'Creperies', 'Chicken Shop', 'International', 'Burmese', 'Delicatessen', 'Rotisserie Chicken', 'Kosher', 'Vietnamese', 'Bulgarian', 'Diners', 'Bistros', 'Japanese', 'Caribbean', 'Convenience Stores', 'Malaysian', 'Mediterranean', 'Arabian', 'Turkish', 'Halal', 'Farmers Market', 'Mexican', 'New Mexican Cuisine', 'Chinese', 'Korean', 'Greek', 'Steakhouses', 'Kiosk', 'Slovakian', 'Grocery', 'Organic Stores', 'Moroccan', 'Island Pub', 'Churros', 'Noodles', 'Coffee Roasteries', 'Guamanian', 'Custom Cakes', 'Patisserie/Cake Shop', 'Brasseries', 'Food Trucks', 'Empanadas', 'Beer Garden', 'Cuban', 'Australian', 'Soup', 'Irish', 'Burgers', 'Tapas Bars', 'Chimney Cakes', 'Spanish', 'Bangladeshi', 'Poke', 'Cajun/Creole', 'Czech', 'Gastropubs', 'Fast Food', 'Japanese Sweets', 'Wineries', 'Hot Dogs', 'Hot Pot', 'Pita', 'Scandinavian', 'Argentine', 'Distilleries', 'Portuguese', 'Live/Raw Food', 'Mongolian', 'Pub Food', 'Asian Fusion', 'Gelato', 'French', 'Breweries', 'Wraps', 'Filipino', 'Singaporean', 'Pop-Up Restaurants', 'Food Stands', 'Ethical Grocery', 'Meaderies', 'Dinner Theater', 'Vegetarian', 'Italian', 'Afghan', 'Tea Rooms', 'Iberian'}\n"
     ]
    }
   ],
   "source": [
    "final_category_set = ss.intersection(category_ss)\n",
    "print(final_category_set)"
   ]
  },
  {
   "cell_type": "code",
   "execution_count": 20,
   "metadata": {},
   "outputs": [
    {
     "name": "stdout",
     "output_type": "stream",
     "text": [
      "193\n"
     ]
    }
   ],
   "source": [
    "print(len(final_category_set))"
   ]
  },
  {
   "cell_type": "code",
   "execution_count": 21,
   "metadata": {},
   "outputs": [
    {
     "name": "stdout",
     "output_type": "stream",
     "text": [
      "+--------------------+--------------------+\n",
      "|         business_id|          categories|\n",
      "+--------------------+--------------------+\n",
      "|f9NumwFMBDn751xgF...|[Active Life, Gun...|\n",
      "|Yzvjg0SayhoZgCljU...|[Health & Medical...|\n",
      "|XNoUzKckATkOD1hP6...|[Pets, Pet Servic...|\n",
      "|6OAZjbxqM5ol29BuH...|[Hardware Stores,...|\n",
      "|51M2Kk903DFYI6gnB...|[Home Services, P...|\n",
      "|cKyLV5oWZJ2NudWgq...|[Auto Repair, Aut...|\n",
      "|oiAlXZPIFm2nBCt0D...|[Dry Cleaning & L...|\n",
      "|ScYkbYNkDgCneBrD9...|[Auto Repair, Oil...|\n",
      "|pQeaRpvuhoEqudo3u...|[Ethnic Food, Foo...|\n",
      "|EosRKXIGeSWFYWwpk...|[Martial Arts, Gy...|\n",
      "|MbZMmwo-eL0Jnm_Yb...|[Contractors, Lan...|\n",
      "|7Dv4_HAxsxvadEsT5...|[Automotive, Auto...|\n",
      "|M_guz7Dj7hX0evS67...|[Desserts, Food, ...|\n",
      "|JjJs3o60uQCfctDjs...|[Contractors, Hom...|\n",
      "|kOICO53wbOiOJcKuC...|[Beauty & Spas, T...|\n",
      "|rqcOZePlVvJP9Etzl...|[Local Services, ...|\n",
      "|uZuh51lXu7tsrC8RA...|[Shopping, Shoe S...|\n",
      "|nIEhsGbw0vJuYl05b...|[Event Planning &...|\n",
      "|edQoeeBFUTYGwnUSE...|[Auto Customizati...|\n",
      "|Vwo64kNYDjKi98gUU...|[Weight Loss Cent...|\n",
      "+--------------------+--------------------+\n",
      "only showing top 20 rows\n",
      "\n"
     ]
    }
   ],
   "source": [
    "temp.show()"
   ]
  },
  {
   "cell_type": "code",
   "execution_count": 22,
   "metadata": {},
   "outputs": [
    {
     "name": "stdout",
     "output_type": "stream",
     "text": [
      "208869\n"
     ]
    }
   ],
   "source": [
    "print(temp.count())"
   ]
  },
  {
   "cell_type": "code",
   "execution_count": 23,
   "metadata": {},
   "outputs": [
    {
     "name": "stdout",
     "output_type": "stream",
     "text": [
      "+--------------------+--------------------+\n",
      "|         business_id|          categories|\n",
      "+--------------------+--------------------+\n",
      "|pQeaRpvuhoEqudo3u...|[Food Trucks, Spe...|\n",
      "|M_guz7Dj7hX0evS67...|[Desserts, Ice Cr...|\n",
      "|CsLQLiRoafpJPJSkN...|[Grocery, Middle ...|\n",
      "|mKTq1T_IAplDpHUcM...|[Food Delivery Se...|\n",
      "|eBEfgOPG7pvFhb2wc...|[Cheesesteaks, Po...|\n",
      "|lu7vtrp_bE9PnxWfA...|[Japanese, Fast F...|\n",
      "|007Dg4ESDVacWcC4V...|[Organic Stores, ...|\n",
      "|9sRGfSVEfLhN_km60...|[Persian/Iranian,...|\n",
      "|pcaQDBM6r0PWTXfYZ...|           [Grocery]|\n",
      "|DCsS3SgVFO56F6wRO...|[Donuts, Juice Ba...|\n",
      "|vjTVxnsQEZ34XjYNS...|[Pretzels, Bakeri...|\n",
      "|fnZrZlqW1Z8iWgTVD...|[Mexican, Fast Food]|\n",
      "|rVBPQdeayMYht4Uv_...|           [Burgers]|\n",
      "|98hyK2QEUeI8v2y0A...|  [Vietnamese, Soup]|\n",
      "|fhNf_sg-XzZ3e7HEV...|[Burgers, America...|\n",
      "|LoRef3ChgZKbxUio-...|    [Middle Eastern]|\n",
      "|Ga2Bt7xfqoggTypWD...|           [Mexican]|\n",
      "|_xOeoXfPUQTNlUAhX...|      [Coffee & Tea]|\n",
      "|xFc50drSPxXkcLvX5...|[Burgers, Fast Fo...|\n",
      "|tLpkSwdtqqoXwU0JA...|[Fast Food, Burgers]|\n",
      "+--------------------+--------------------+\n",
      "only showing top 20 rows\n",
      "\n",
      "78679\n"
     ]
    }
   ],
   "source": [
    "check = temp.rdd.map(lambda row : (row['business_id'], [x for x in row['categories'] if x in final_category_set])).toDF([\"business_id\", \"categories\"])\n",
    "check = check.filter(f.size(check.categories) > 0)\n",
    "check.show()\n",
    "print(check.count())"
   ]
  },
  {
   "cell_type": "code",
   "execution_count": null,
   "metadata": {},
   "outputs": [],
   "source": []
  },
  {
   "cell_type": "code",
   "execution_count": 24,
   "metadata": {},
   "outputs": [
    {
     "name": "stdout",
     "output_type": "stream",
     "text": [
      "+--------------------+--------------------+--------------------+--------------------+---------------+--------------------+-------+-------------+---------------+--------------------+-----------+------------+-----+-----+\n",
      "|             address|          attributes|         business_id|          categories|           city|               hours|is_open|     latitude|      longitude|                name|postal_code|review_count|stars|state|\n",
      "+--------------------+--------------------+--------------------+--------------------+---------------+--------------------+-------+-------------+---------------+--------------------+-----------+------------+-----+-----+\n",
      "|     10913 Bailey Rd|[,,,,,,, True,, T...|f9NumwFMBDn751xgF...|Active Life, Gun/...|      Cornelius|[11:0-20:0, 10:0-...|      1|   35.4627242|    -80.8526119|The Range At Lake...|      28031|          36|  3.5|   NC|\n",
      "|8880 E Via Linda,...|[,,,,,,,,,,, True...|Yzvjg0SayhoZgCljU...|Health & Medical,...|     Scottsdale|                null|      1|   33.5694041|   -111.8902637|   Carlos Santo, NMD|      85258|           4|  5.0|   AZ|\n",
      "|3554 Rue Notre-Da...|                null|XNoUzKckATkOD1hP6...|Pets, Pet Service...|       Montreal|                null|      1|    45.479984|      -73.58007|             Felinus|    H4C 1P4|           5|  5.0|   QC|\n",
      "|      1015 Sharp Cir|[,,,,,,, True,, T...|6OAZjbxqM5ol29BuH...|Hardware Stores, ...|North Las Vegas|[7:0-16:0, 7:0-16...|      0|   36.2197281|   -115.1277255|Nevada House of Hose|      89030|           3|  2.5|   NV|\n",
      "|  4827 E Downing Cir|[,,,,,,,,, True,,...|51M2Kk903DFYI6gnB...|Home Services, Pl...|           Mesa|[9:0-16:0, 0:0-0:...|      1|   33.4280652|   -111.7266485|USE MY GUY SERVIC...|      85205|          26|  4.5|   AZ|\n",
      "|1720 W Elliot Rd,...|[,,,,,,,,, True,,...|cKyLV5oWZJ2NudWgq...|Auto Repair, Auto...|        Gilbert|[7:0-18:0, 7:0-18...|      1|   33.3503993|   -111.8271417|Oasis Auto Center...|      85233|          38|  4.5|   AZ|\n",
      "|6870 S Rainbow Bl...|[,,,,,,, True,, T...|oiAlXZPIFm2nBCt0D...|Dry Cleaning & La...|      Las Vegas|[7:0-19:0, 7:0-19...|      1|   36.0639767|    -115.241463|Green World Cleaners|      89118|          81|  3.5|   NV|\n",
      "| 6910 E Southern Ave|[,,,,,,,,, True,,...|ScYkbYNkDgCneBrD9...|Auto Repair, Oil ...|           Mesa|[7:30-17:0, 7:30-...|      1|   33.3938847|   -111.6822257|Junction Tire & A...|      85209|          18|  5.0|   AZ|\n",
      "|      404 E Green St|[,, 'none',,,,, F...|pQeaRpvuhoEqudo3u...|Ethnic Food, Food...|      Champaign|[11:30-14:30, 11:...|      1|   40.1104457|    -88.2330726| The Empanadas House|      61820|           5|  4.5|   IL|\n",
      "|700 Kipling Avenu...|[,,,,,,, False,,,...|EosRKXIGeSWFYWwpk...|Martial Arts, Gym...|        Toronto|[5:30-23:0, 5:30-...|      1|43.6245394916| -79.5291079302|      Xtreme Couture|    M8Z 5G3|          16|  3.0|   ON|\n",
      "|                    |                null|MbZMmwo-eL0Jnm_Yb...|Contractors, Land...|        Calgary|[7:0-17:0, 7:0-17...|      1|   50.9459599|   -114.0372072|Chinook Landscapi...|    T2J 2P2|           3|  5.0|   AB|\n",
      "|1110 Saw Mill Run...|[,,,,,,,,, True,,...|7Dv4_HAxsxvadEsT5...|Automotive, Auto ...|     Pittsburgh|[8:0-17:0, 8:0-17...|      1|   40.4066674|    -80.0044502|Dependable Brakes...|      15226|           5|  5.0|   PA|\n",
      "|   2831 Parmenter St|[,,,,,,, True,, T...|M_guz7Dj7hX0evS67...|Desserts, Food, I...|      Middleton|[11:0-22:0, 0:0-0...|      1|43.1053100891| -89.5101417974|Chocolate Shoppe ...|      53562|           6|  3.5|   WI|\n",
      "|116 N Roosevelt A...|[,,,,,,,,, True,,...|JjJs3o60uQCfctDjs...|Contractors, Home...|       Chandler|[9:0-16:0, 9:0-16...|      1|   33.3038687|   -111.9516598|        Convertabath|      85226|          10|  2.5|   AZ|\n",
      "|     5465 Simmons St|[,,,,,,,,, True, ...|kOICO53wbOiOJcKuC...|Beauty & Spas, Ta...|North Las Vegas|[8:0-21:0, 8:0-21...|      0|    36.263362|   -115.1798386|       Tan Las Vegas|      89031|           5|  3.5|   NV|\n",
      "|     2402 Atchley Dr|[,,,,,,,,, True,,...|rqcOZePlVvJP9Etzl...|Local Services, S...|      Henderson|[8:0-18:0, 8:0-18...|      0|   35.9520457|   -115.0934834|      Desert Storage|      89052|           5|  5.0|   NV|\n",
      "| 3131 Las Vegas Blvd|[,,,,,,, True,, T...|uZuh51lXu7tsrC8RA...|Shopping, Shoe St...|      Las Vegas|                null|      0|36.1257322229|-115.1676084101|      Manolo Blahnik|      89109|          32|  4.5|   NV|\n",
      "|2115 E Cedar St, ...|[,,,,,,,,, True,,...|nIEhsGbw0vJuYl05b...|Event Planning & ...|          Tempe|                null|      1|   33.4115139|   -111.8953784|   Bloom & Blueprint|      85281|           7|  4.5|   AZ|\n",
      "|      2915 Cherry Rd|[,,,,,,,,, True,,...|edQoeeBFUTYGwnUSE...|Auto Customizatio...|      Rock Hill|[8:0-18:0, 8:0-18...|      1|   34.9811205|    -80.9790228|            Car Guyz|      29730|          10|  4.5|   SC|\n",
      "|     5229 S Power Rd|[False,,,,,,, Tru...|Vwo64kNYDjKi98gUU...|Weight Loss Cente...|           Mesa|[5:30-20:0, 5:30-...|      1|   33.3207235|   -111.6858686|Gateway Fit Body ...|      85212|          16|  4.5|   AZ|\n",
      "+--------------------+--------------------+--------------------+--------------------+---------------+--------------------+-------+-------------+---------------+--------------------+-----------+------------+-----+-----+\n",
      "only showing top 20 rows\n",
      "\n"
     ]
    }
   ],
   "source": [
    "df.show()"
   ]
  },
  {
   "cell_type": "code",
   "execution_count": 25,
   "metadata": {},
   "outputs": [],
   "source": [
    "restaurant_df = df.join(check, on=['business_id'], how='left_semi')"
   ]
  },
  {
   "cell_type": "code",
   "execution_count": 27,
   "metadata": {},
   "outputs": [
    {
     "name": "stdout",
     "output_type": "stream",
     "text": [
      "+--------------------+--------------------+--------------------+--------------------+-------------+--------------------+-------+-------------+---------------+--------------------+-----------+------------+-----+-----+\n",
      "|         business_id|             address|          attributes|          categories|         city|               hours|is_open|     latitude|      longitude|                name|postal_code|review_count|stars|state|\n",
      "+--------------------+--------------------+--------------------+--------------------+-------------+--------------------+-------+-------------+---------------+--------------------+-----------+------------+-----+-----+\n",
      "|--9e1ONYQuAa-CB_R...|3355 Las Vegas Bl...|[,, 'full_bar', {...|Seafood, Cajun/Cr...|    Las Vegas|[17:0-22:30, 17:0...|      1|    36.123183|     -115.16919|Delmonico Steakhouse|      89109|        1759|  4.0|   NV|\n",
      "|-TGwtTiieh_JLml5_...|  10520 Yonge Street|[,,,,,,, True,,, ...|  Food, Coffee & Tea|Richmond Hill|[6:0-21:30, 6:0-2...|      0|    43.884114|     -79.441195|           Starbucks|    L4C 3C7|           8|  3.5|   ON|\n",
      "|-VAsjhmAbKF3Pb_-8...|850, Rue Sainte-C...|[,, u'none', None...|Fast Food, Restau...|     Montréal|[0:0-0:0, 0:0-0:0...|      1|    45.515767|     -73.558392|          McDonald's|    H2L 2E2|          12|  2.0|   QC|\n",
      "|-cxD1NimFldATDUsN...|4500 W Tropicana Ave|[,, u'full_bar', ...|Mexican, Restaurants|    Las Vegas|[16:0-23:0,, 16:0...|      0|    36.102737|    -115.202016|      Coasta Cantina|      89103|          23|  2.0|   NV|\n",
      "|-r8SvItXXG6_T3mP5...|  7 2100 4 Street SW|[,, u'beer_and_wi...|Restaurants, Nood...|      Calgary|[7:0-23:0, 7:0-22...|      1|   51.0340032|   -114.0707963| Western Coffee Shop|    T2S 1W7|          12|  4.0|   AB|\n",
      "|0859wfd1BQHG46Zpw...|     14 W Vernon Ave|[,, 'beer_and_win...|Restaurants, Pizz...|      Phoenix|[11:0-22:0, 11:0-...|      1|    33.474235|   -112.0746535|         Oven + Vine|      85003|         298|  4.5|   AZ|\n",
      "|09OYbFNrS1n8u5gE6...| 405 Donlands Avenue|[,,,,,,, True,,, ...|Bakeries, Food, G...|    East York|[9:0-21:0, 9:0-20...|      1|   43.6940991|    -79.3425512|       Select Bakery|    M4J 3S2|          27|  4.0|   ON|\n",
      "|0DwMrcy7_X_C_mP8_...|       2123 E 2nd St|[,, u'full_bar', ...|American (Traditi...|    Cleveland|                null|      0|      41.4977|    -81.6905589|   High Street Grill|      44115|           3|  2.5|   OH|\n",
      "|0bqV9uzFVz98Bn_RI...|175 N Stephanie S...|[,, u'none', {'ro...|Fast Food, Event ...|    Henderson|[10:30-22:0, 10:3...|      1|36.0399295807|-115.0474078953|  QDOBA Mexican Eats|      89074|          84|  3.5|   NV|\n",
      "|0owIRP_z5RcYKKmh5...|1743 Rue Saint-Denis|[,,, {'romantic':...|Food, Barbeque, F...|     Montréal|[11:0-4:0, 11:0-2...|      0|   45.5157615|     -73.564602|     Cabane Hot-Dogs|    H2X 3K4|           9|  4.0|   QC|\n",
      "|19m3NtbbP2VX-tDFJ...| 229 Curry Hollow Rd|[,,,,,,, True,, T...|Food, Ice Cream &...|   Pittsburgh|                null|      1|    40.337262|     -79.979377|  Rita's Italian Ice|      15236|           5|  4.0|   PA|\n",
      "|1HxUblducEjm5sj-v...|  301 Grant St, Fl 2|[,,,,,,, True,, T...|Food, Chocolatier...|   Pittsburgh|[10:0-18:0, 10:0-...|      1|    40.438232|     -79.998615|St Moritz Chocola...|      15219|           3|  4.5|   PA|\n",
      "|1NmGVWYlF4iMngM6a...|7211 E Independen...|[,, 'none', {'rom...|Restaurants, Viet...|    Charlotte|[10:0-21:0, 10:0-...|      1|   35.1638118|    -80.7389582|       Pho Huong Que|      28227|         135|  4.0|   NC|\n",
      "|1RFIVcZYV77tGIwVV...|  639 Annette Street|[,,,,,,,,,, {'gar...|Restaurants, Food...|      Toronto|[7:30-18:0,, 8:0-...|      0|    43.659328|    -79.4826374|      More Than Pies|    M6S 2C5|           4|  4.5|   ON|\n",
      "|1UwaMUnVKeWcV14qv...|    3259 Dufferin St|[,, u'beer_and_wi...|Japanese, Restaur...|   North York|[11:0-23:0,, 10:3...|      1|   43.7206501|     -79.455697|Yuki Japanese & K...|    M6A 2T2|          56|  3.5|   ON|\n",
      "|1bPL4k_Ti8to01tI_...|2398 W Roosevelt ...|[,, 'none', {'tou...|Greek, Diners, So...|       Monroe|[6:0-22:0, 6:0-21...|      1|   35.0112279|    -80.5646015|    Showmars- Monroe|      28110|          16|  3.0|   NC|\n",
      "|1hBmklxIBhw9nu9Nj...|20210 Henderson R...|[,, u'full_bar', ...|Dive Bars, Nightl...|    Cornelius|[11:0-22:0, 0:0-0...|      1|   35.4875754|     -80.888148|       Hello, Sailor|      28031|         529|  3.5|   NC|\n",
      "|1zZbXM8AEEvA7I1wL...|90 Burnhamthorpe ...|[,, u'full_bar', ...|Asian Fusion, Tha...|  Mississauga|                null|      0|   43.5912955|     -79.636863|        Spring Rolls|    L5B 3Y3|          66|  3.0|   ON|\n",
      "|2-l_q7HBRak5i6X46...|   111 2nd Avenue SE|[,, u'none', {'ro...|Food, Desserts, C...|      Calgary|[11:0-1:0, 11:0-2...|      0|    51.050889|    -114.061939|   The Dessert House|    T2G 0B2|          21|  3.0|   AB|\n",
      "|20htfKeteS2n4KYyV...|7155 Grand Montec...|[,,,,,,,,, True, ...|Food, Coffee & Te...|    Las Vegas|                null|      0|   36.2914747|   -115.2845673|       Dunkin Donuts|      89149|           6|  2.5|   NV|\n",
      "+--------------------+--------------------+--------------------+--------------------+-------------+--------------------+-------+-------------+---------------+--------------------+-----------+------------+-----+-----+\n",
      "only showing top 20 rows\n",
      "\n"
     ]
    }
   ],
   "source": [
    "restaurant_df.show()"
   ]
  },
  {
   "cell_type": "code",
   "execution_count": 38,
   "metadata": {},
   "outputs": [
    {
     "name": "stdout",
     "output_type": "stream",
     "text": [
      "+--------------------+--------------------+--------------------+-------------+-----+--------------------+-------+-----------+-----+-----+------------+\n",
      "|         business_id|                name|             address|         city|state|          categories|is_open|postal_code|stars|price|review_count|\n",
      "+--------------------+--------------------+--------------------+-------------+-----+--------------------+-------+-----------+-----+-----+------------+\n",
      "|--9e1ONYQuAa-CB_R...|Delmonico Steakhouse|3355 Las Vegas Bl...|    Las Vegas|   NV|Seafood, Cajun/Cr...|      1|      89109|  4.0|    4|        1759|\n",
      "|-TGwtTiieh_JLml5_...|           Starbucks|  10520 Yonge Street|Richmond Hill|   ON|  Food, Coffee & Tea|      0|    L4C 3C7|  3.5|    1|           8|\n",
      "|-VAsjhmAbKF3Pb_-8...|          McDonald's|850, Rue Sainte-C...|     Montréal|   QC|Fast Food, Restau...|      1|    H2L 2E2|  2.0|    1|          12|\n",
      "|-cxD1NimFldATDUsN...|      Coasta Cantina|4500 W Tropicana Ave|    Las Vegas|   NV|Mexican, Restaurants|      0|      89103|  2.0|    2|          23|\n",
      "|-r8SvItXXG6_T3mP5...| Western Coffee Shop|  7 2100 4 Street SW|      Calgary|   AB|Restaurants, Nood...|      1|    T2S 1W7|  4.0|    2|          12|\n",
      "|0859wfd1BQHG46Zpw...|         Oven + Vine|     14 W Vernon Ave|      Phoenix|   AZ|Restaurants, Pizz...|      1|      85003|  4.5|    2|         298|\n",
      "|09OYbFNrS1n8u5gE6...|       Select Bakery| 405 Donlands Avenue|    East York|   ON|Bakeries, Food, G...|      1|    M4J 3S2|  4.0|    2|          27|\n",
      "|0DwMrcy7_X_C_mP8_...|   High Street Grill|       2123 E 2nd St|    Cleveland|   OH|American (Traditi...|      0|      44115|  2.5|    2|           3|\n",
      "|0bqV9uzFVz98Bn_RI...|  QDOBA Mexican Eats|175 N Stephanie S...|    Henderson|   NV|Fast Food, Event ...|      1|      89074|  3.5|    1|          84|\n",
      "|0owIRP_z5RcYKKmh5...|     Cabane Hot-Dogs|1743 Rue Saint-Denis|     Montréal|   QC|Food, Barbeque, F...|      0|    H2X 3K4|  4.0|    1|           9|\n",
      "|19m3NtbbP2VX-tDFJ...|  Rita's Italian Ice| 229 Curry Hollow Rd|   Pittsburgh|   PA|Food, Ice Cream &...|      1|      15236|  4.0|    1|           5|\n",
      "|1HxUblducEjm5sj-v...|St Moritz Chocola...|  301 Grant St, Fl 2|   Pittsburgh|   PA|Food, Chocolatier...|      1|      15219|  4.5| null|           3|\n",
      "|1NmGVWYlF4iMngM6a...|       Pho Huong Que|7211 E Independen...|    Charlotte|   NC|Restaurants, Viet...|      1|      28227|  4.0|    2|         135|\n",
      "|1RFIVcZYV77tGIwVV...|      More Than Pies|  639 Annette Street|      Toronto|   ON|Restaurants, Food...|      0|    M6S 2C5|  4.5|    2|           4|\n",
      "|1UwaMUnVKeWcV14qv...|Yuki Japanese & K...|    3259 Dufferin St|   North York|   ON|Japanese, Restaur...|      1|    M6A 2T2|  3.5|    2|          56|\n",
      "|1bPL4k_Ti8to01tI_...|    Showmars- Monroe|2398 W Roosevelt ...|       Monroe|   NC|Greek, Diners, So...|      1|      28110|  3.0|    1|          16|\n",
      "|1hBmklxIBhw9nu9Nj...|       Hello, Sailor|20210 Henderson R...|    Cornelius|   NC|Dive Bars, Nightl...|      1|      28031|  3.5|    2|         529|\n",
      "|1zZbXM8AEEvA7I1wL...|        Spring Rolls|90 Burnhamthorpe ...|  Mississauga|   ON|Asian Fusion, Tha...|      0|    L5B 3Y3|  3.0|    2|          66|\n",
      "|2-l_q7HBRak5i6X46...|   The Dessert House|   111 2nd Avenue SE|      Calgary|   AB|Food, Desserts, C...|      0|    T2G 0B2|  3.0|    2|          21|\n",
      "|20htfKeteS2n4KYyV...|       Dunkin Donuts|7155 Grand Montec...|    Las Vegas|   NV|Food, Coffee & Te...|      0|      89149|  2.5|    1|           6|\n",
      "+--------------------+--------------------+--------------------+-------------+-----+--------------------+-------+-----------+-----+-----+------------+\n",
      "only showing top 20 rows\n",
      "\n"
     ]
    }
   ],
   "source": [
    "t_df = restaurant_df.withColumn('price', restaurant_df.attributes.RestaurantsPriceRange2)\n",
    "t_df = t_df[['business_id', 'name', 'address', 'city', 'state', 'categories', 'is_open', 'postal_code', 'stars', 'price', 'review_count']]\n",
    "t_df.show()"
   ]
  },
  {
   "cell_type": "code",
   "execution_count": 40,
   "metadata": {},
   "outputs": [],
   "source": [
    "# t_df.write.format('jdbc').mode('overwrite').option(\"url\", \"jdbc:mysql://database-1.cjy5mlvqnx2k.us-west-1.rds.amazonaws.com:3306/restaurant\").option(\"dbtable\", \"restaurant_basic_info\").option(\"user\", \"root\").option(\"password\", \"wangyinuo696683\").save()"
   ]
  },
  {
   "cell_type": "code",
   "execution_count": 41,
   "metadata": {},
   "outputs": [
    {
     "name": "stdout",
     "output_type": "stream",
     "text": [
      "+--------------------+--------------------+\n",
      "|         business_id|          categories|\n",
      "+--------------------+--------------------+\n",
      "|pQeaRpvuhoEqudo3u...|[Food Trucks, Spe...|\n",
      "|M_guz7Dj7hX0evS67...|[Desserts, Ice Cr...|\n",
      "|CsLQLiRoafpJPJSkN...|[Grocery, Middle ...|\n",
      "|mKTq1T_IAplDpHUcM...|[Food Delivery Se...|\n",
      "|eBEfgOPG7pvFhb2wc...|[Cheesesteaks, Po...|\n",
      "|lu7vtrp_bE9PnxWfA...|[Japanese, Fast F...|\n",
      "|007Dg4ESDVacWcC4V...|[Organic Stores, ...|\n",
      "|9sRGfSVEfLhN_km60...|[Persian/Iranian,...|\n",
      "|pcaQDBM6r0PWTXfYZ...|           [Grocery]|\n",
      "|DCsS3SgVFO56F6wRO...|[Donuts, Juice Ba...|\n",
      "|vjTVxnsQEZ34XjYNS...|[Pretzels, Bakeri...|\n",
      "|fnZrZlqW1Z8iWgTVD...|[Mexican, Fast Food]|\n",
      "|rVBPQdeayMYht4Uv_...|           [Burgers]|\n",
      "|98hyK2QEUeI8v2y0A...|  [Vietnamese, Soup]|\n",
      "|fhNf_sg-XzZ3e7HEV...|[Burgers, America...|\n",
      "|LoRef3ChgZKbxUio-...|    [Middle Eastern]|\n",
      "|Ga2Bt7xfqoggTypWD...|           [Mexican]|\n",
      "|_xOeoXfPUQTNlUAhX...|      [Coffee & Tea]|\n",
      "|xFc50drSPxXkcLvX5...|[Burgers, Fast Fo...|\n",
      "|tLpkSwdtqqoXwU0JA...|[Fast Food, Burgers]|\n",
      "+--------------------+--------------------+\n",
      "only showing top 20 rows\n",
      "\n"
     ]
    }
   ],
   "source": [
    "check.show()"
   ]
  },
  {
   "cell_type": "code",
   "execution_count": 42,
   "metadata": {},
   "outputs": [
    {
     "data": {
      "text/plain": [
       "78679"
      ]
     },
     "execution_count": 42,
     "metadata": {},
     "output_type": "execute_result"
    }
   ],
   "source": [
    "check.count()"
   ]
  },
  {
   "cell_type": "code",
   "execution_count": 43,
   "metadata": {},
   "outputs": [
    {
     "name": "stdout",
     "output_type": "stream",
     "text": [
      "['Butcher', 'Dumplings', 'Fondue', 'Laotian', 'Cambodian', 'Pan Asian', 'Indian', 'German', 'Signature Cuisine', 'Basque', 'Polynesian', 'Shaved Snow', 'Juice Bars & Smoothies', 'Persian/Iranian', 'Canadian (New)', 'Sugar Shacks', 'Indonesian', 'Cheesesteaks', 'Donairs', 'Brazilian', 'Swiss Food', 'Catalan', 'Bakeries', 'Kombucha', 'Specialty Food', 'Taiwanese', 'Coffee & Tea', 'Soul Food', 'Eastern European', 'Hungarian', 'Buffets', 'Cideries', 'Delis', 'Gluten-Free', 'American (New)', 'Russian', 'Comfort Food', 'African', 'Hawaiian', 'International Grocery', 'Sri Lankan', 'Milkshake Bars', 'Syrian', 'Sushi Bars', 'Supper Clubs', 'Ice Cream & Frozen Yogurt', 'Czech/Slovakian', 'Backshop', 'Vegan', 'Food Court', 'Thai', 'Cafes', 'Food Delivery Services', 'Nicaraguan', 'Pretzels', 'Bubble Tea', 'Kebab', 'Modern European', 'Scottish', 'Tapas/Small Plates', 'Acai Bowls', 'Coffee & Tea Supplies', 'Fish & Chips', 'Middle Eastern', 'CSA', 'Peruvian', 'Internet Cafes', 'Poutineries', 'Austrian', 'Bagels', 'Sandwiches', 'Hong Kong Style Cafe', 'Tex-Mex', 'Waffles', 'Donuts', 'Breakfast & Brunch', 'Do-It-Yourself Food', 'British', 'Polish', 'Honey', 'Eritrean', 'Salad', 'Game Meat', 'Desserts', 'Belgian', 'Pizza', 'Beverage Store', 'Armenian', 'Ethiopian', 'Pakistani', 'Chicken Wings', 'Seafood', 'Street Vendors', 'Cafeteria', 'Honduran', 'Southern', 'Smokehouse', 'Barbeque', 'Himalayan/Nepalese', 'Uzbek', 'Water Stores', 'Imported Food', 'Beer Hall', 'American (Traditional)', 'Cupcakes', 'Latin American', 'Ukrainian', 'Shaved Ice', 'Creperies', 'Chicken Shop', 'International', 'Burmese', 'Delicatessen', 'Rotisserie Chicken', 'Kosher', 'Vietnamese', 'Bulgarian', 'Diners', 'Bistros', 'Japanese', 'Caribbean', 'Convenience Stores', 'Malaysian', 'Mediterranean', 'Arabian', 'Turkish', 'Halal', 'Farmers Market', 'Mexican', 'New Mexican Cuisine', 'Chinese', 'Korean', 'Greek', 'Steakhouses', 'Kiosk', 'Slovakian', 'Grocery', 'Organic Stores', 'Moroccan', 'Island Pub', 'Churros', 'Noodles', 'Coffee Roasteries', 'Guamanian', 'Custom Cakes', 'Patisserie/Cake Shop', 'Brasseries', 'Food Trucks', 'Empanadas', 'Beer Garden', 'Cuban', 'Australian', 'Soup', 'Irish', 'Burgers', 'Tapas Bars', 'Chimney Cakes', 'Spanish', 'Bangladeshi', 'Poke', 'Cajun/Creole', 'Czech', 'Gastropubs', 'Fast Food', 'Japanese Sweets', 'Wineries', 'Hot Dogs', 'Hot Pot', 'Pita', 'Scandinavian', 'Argentine', 'Distilleries', 'Portuguese', 'Live/Raw Food', 'Mongolian', 'Pub Food', 'Asian Fusion', 'Gelato', 'French', 'Breweries', 'Wraps', 'Filipino', 'Singaporean', 'Pop-Up Restaurants', 'Food Stands', 'Ethical Grocery', 'Meaderies', 'Dinner Theater', 'Vegetarian', 'Italian', 'Afghan', 'Tea Rooms', 'Iberian']\n"
     ]
    }
   ],
   "source": [
    "restaurant_category_list = list(final_category_set)\n",
    "print(restaurant_category_list)"
   ]
  },
  {
   "cell_type": "code",
   "execution_count": 44,
   "metadata": {},
   "outputs": [
    {
     "name": "stdout",
     "output_type": "stream",
     "text": [
      "+--------------------+--------------------+--------------------+\n",
      "|         business_id|          categories|       binary_vector|\n",
      "+--------------------+--------------------+--------------------+\n",
      "|pQeaRpvuhoEqudo3u...|[Food Trucks, Spe...|[0, 0, 0, 0, 0, 0...|\n",
      "|M_guz7Dj7hX0evS67...|[Desserts, Ice Cr...|[0, 0, 0, 0, 0, 0...|\n",
      "|CsLQLiRoafpJPJSkN...|[Grocery, Middle ...|[0, 0, 0, 0, 0, 0...|\n",
      "|mKTq1T_IAplDpHUcM...|[Food Delivery Se...|[0, 0, 0, 0, 0, 0...|\n",
      "|eBEfgOPG7pvFhb2wc...|[Cheesesteaks, Po...|[0, 0, 0, 0, 0, 0...|\n",
      "|lu7vtrp_bE9PnxWfA...|[Japanese, Fast F...|[0, 0, 0, 0, 0, 0...|\n",
      "|007Dg4ESDVacWcC4V...|[Organic Stores, ...|[0, 0, 0, 0, 0, 0...|\n",
      "|9sRGfSVEfLhN_km60...|[Persian/Iranian,...|[0, 0, 0, 0, 0, 0...|\n",
      "|pcaQDBM6r0PWTXfYZ...|           [Grocery]|[0, 0, 0, 0, 0, 0...|\n",
      "|DCsS3SgVFO56F6wRO...|[Donuts, Juice Ba...|[0, 0, 0, 0, 0, 0...|\n",
      "|vjTVxnsQEZ34XjYNS...|[Pretzels, Bakeri...|[0, 0, 0, 0, 0, 0...|\n",
      "|fnZrZlqW1Z8iWgTVD...|[Mexican, Fast Food]|[0, 0, 0, 0, 0, 0...|\n",
      "|rVBPQdeayMYht4Uv_...|           [Burgers]|[0, 0, 0, 0, 0, 0...|\n",
      "|98hyK2QEUeI8v2y0A...|  [Vietnamese, Soup]|[0, 0, 0, 0, 0, 0...|\n",
      "|fhNf_sg-XzZ3e7HEV...|[Burgers, America...|[0, 0, 0, 0, 0, 0...|\n",
      "|LoRef3ChgZKbxUio-...|    [Middle Eastern]|[0, 0, 0, 0, 0, 0...|\n",
      "|Ga2Bt7xfqoggTypWD...|           [Mexican]|[0, 0, 0, 0, 0, 0...|\n",
      "|_xOeoXfPUQTNlUAhX...|      [Coffee & Tea]|[0, 0, 0, 0, 0, 0...|\n",
      "|xFc50drSPxXkcLvX5...|[Burgers, Fast Fo...|[0, 0, 0, 0, 0, 0...|\n",
      "|tLpkSwdtqqoXwU0JA...|[Fast Food, Burgers]|[0, 0, 0, 0, 0, 0...|\n",
      "+--------------------+--------------------+--------------------+\n",
      "only showing top 20 rows\n",
      "\n"
     ]
    }
   ],
   "source": [
    "from pyspark.sql.functions import udf, col\n",
    "from pyspark.sql.types import ArrayType, IntegerType\n",
    "\n",
    "create_category_vector = check.rdd.map(lambda row : (row['business_id'], row['categories'], [1 if i in row['categories'] else 0 for i in restaurant_category_list])).toDF(['business_id', 'categories', 'binary_vector'])\n",
    "create_category_vector.show()"
   ]
  },
  {
   "cell_type": "code",
   "execution_count": 46,
   "metadata": {},
   "outputs": [
    {
     "name": "stdout",
     "output_type": "stream",
     "text": [
      "+--------------------+--------------------+\n",
      "|         business_id|       binary_vector|\n",
      "+--------------------+--------------------+\n",
      "|pQeaRpvuhoEqudo3u...|0,0,0,0,0,0,0,0,0...|\n",
      "|M_guz7Dj7hX0evS67...|0,0,0,0,0,0,0,0,0...|\n",
      "|CsLQLiRoafpJPJSkN...|0,0,0,0,0,0,0,0,0...|\n",
      "|mKTq1T_IAplDpHUcM...|0,0,0,0,0,0,0,0,0...|\n",
      "|eBEfgOPG7pvFhb2wc...|0,0,0,0,0,0,0,0,0...|\n",
      "|lu7vtrp_bE9PnxWfA...|0,0,0,0,0,0,0,0,0...|\n",
      "|007Dg4ESDVacWcC4V...|0,0,0,0,0,0,0,0,0...|\n",
      "|9sRGfSVEfLhN_km60...|0,0,0,0,0,0,0,0,0...|\n",
      "|pcaQDBM6r0PWTXfYZ...|0,0,0,0,0,0,0,0,0...|\n",
      "|DCsS3SgVFO56F6wRO...|0,0,0,0,0,0,0,0,0...|\n",
      "|vjTVxnsQEZ34XjYNS...|0,0,0,0,0,0,0,0,0...|\n",
      "|fnZrZlqW1Z8iWgTVD...|0,0,0,0,0,0,0,0,0...|\n",
      "|rVBPQdeayMYht4Uv_...|0,0,0,0,0,0,0,0,0...|\n",
      "|98hyK2QEUeI8v2y0A...|0,0,0,0,0,0,0,0,0...|\n",
      "|fhNf_sg-XzZ3e7HEV...|0,0,0,0,0,0,0,0,0...|\n",
      "|LoRef3ChgZKbxUio-...|0,0,0,0,0,0,0,0,0...|\n",
      "|Ga2Bt7xfqoggTypWD...|0,0,0,0,0,0,0,0,0...|\n",
      "|_xOeoXfPUQTNlUAhX...|0,0,0,0,0,0,0,0,0...|\n",
      "|xFc50drSPxXkcLvX5...|0,0,0,0,0,0,0,0,0...|\n",
      "|tLpkSwdtqqoXwU0JA...|0,0,0,0,0,0,0,0,0...|\n",
      "+--------------------+--------------------+\n",
      "only showing top 20 rows\n",
      "\n",
      "[('business_id', 'string')]\n"
     ]
    }
   ],
   "source": [
    "from pyspark.sql.functions import concat_ws\n",
    "from pyspark.sql.types import StringType\n",
    "db_vector = create_category_vector[['business_id', 'binary_vector']]\n",
    "\n",
    "db_vector = db_vector.withColumn(\"binary_vector\", concat_ws(\",\", \"binary_vector\"))\n",
    "db_vector.show()\n",
    "\n",
    "print(db_vector.select(['business_id']).dtypes)"
   ]
  },
  {
   "cell_type": "code",
   "execution_count": 47,
   "metadata": {},
   "outputs": [
    {
     "name": "stdout",
     "output_type": "stream",
     "text": [
      "+--------------------+--------------------+--------------------+--------------------+-------------+--------------------+-------+-------------+---------------+--------------------+-----------+------------+-----+-----+\n",
      "|         business_id|             address|          attributes|          categories|         city|               hours|is_open|     latitude|      longitude|                name|postal_code|review_count|stars|state|\n",
      "+--------------------+--------------------+--------------------+--------------------+-------------+--------------------+-------+-------------+---------------+--------------------+-----------+------------+-----+-----+\n",
      "|--9e1ONYQuAa-CB_R...|3355 Las Vegas Bl...|[,, 'full_bar', {...|Seafood, Cajun/Cr...|    Las Vegas|[17:0-22:30, 17:0...|      1|    36.123183|     -115.16919|Delmonico Steakhouse|      89109|        1759|  4.0|   NV|\n",
      "|-TGwtTiieh_JLml5_...|  10520 Yonge Street|[,,,,,,, True,,, ...|  Food, Coffee & Tea|Richmond Hill|[6:0-21:30, 6:0-2...|      0|    43.884114|     -79.441195|           Starbucks|    L4C 3C7|           8|  3.5|   ON|\n",
      "|-VAsjhmAbKF3Pb_-8...|850, Rue Sainte-C...|[,, u'none', None...|Fast Food, Restau...|     Montréal|[0:0-0:0, 0:0-0:0...|      1|    45.515767|     -73.558392|          McDonald's|    H2L 2E2|          12|  2.0|   QC|\n",
      "|-cxD1NimFldATDUsN...|4500 W Tropicana Ave|[,, u'full_bar', ...|Mexican, Restaurants|    Las Vegas|[16:0-23:0,, 16:0...|      0|    36.102737|    -115.202016|      Coasta Cantina|      89103|          23|  2.0|   NV|\n",
      "|-r8SvItXXG6_T3mP5...|  7 2100 4 Street SW|[,, u'beer_and_wi...|Restaurants, Nood...|      Calgary|[7:0-23:0, 7:0-22...|      1|   51.0340032|   -114.0707963| Western Coffee Shop|    T2S 1W7|          12|  4.0|   AB|\n",
      "|0859wfd1BQHG46Zpw...|     14 W Vernon Ave|[,, 'beer_and_win...|Restaurants, Pizz...|      Phoenix|[11:0-22:0, 11:0-...|      1|    33.474235|   -112.0746535|         Oven + Vine|      85003|         298|  4.5|   AZ|\n",
      "|09OYbFNrS1n8u5gE6...| 405 Donlands Avenue|[,,,,,,, True,,, ...|Bakeries, Food, G...|    East York|[9:0-21:0, 9:0-20...|      1|   43.6940991|    -79.3425512|       Select Bakery|    M4J 3S2|          27|  4.0|   ON|\n",
      "|0DwMrcy7_X_C_mP8_...|       2123 E 2nd St|[,, u'full_bar', ...|American (Traditi...|    Cleveland|                null|      0|      41.4977|    -81.6905589|   High Street Grill|      44115|           3|  2.5|   OH|\n",
      "|0bqV9uzFVz98Bn_RI...|175 N Stephanie S...|[,, u'none', {'ro...|Fast Food, Event ...|    Henderson|[10:30-22:0, 10:3...|      1|36.0399295807|-115.0474078953|  QDOBA Mexican Eats|      89074|          84|  3.5|   NV|\n",
      "|0owIRP_z5RcYKKmh5...|1743 Rue Saint-Denis|[,,, {'romantic':...|Food, Barbeque, F...|     Montréal|[11:0-4:0, 11:0-2...|      0|   45.5157615|     -73.564602|     Cabane Hot-Dogs|    H2X 3K4|           9|  4.0|   QC|\n",
      "|19m3NtbbP2VX-tDFJ...| 229 Curry Hollow Rd|[,,,,,,, True,, T...|Food, Ice Cream &...|   Pittsburgh|                null|      1|    40.337262|     -79.979377|  Rita's Italian Ice|      15236|           5|  4.0|   PA|\n",
      "|1HxUblducEjm5sj-v...|  301 Grant St, Fl 2|[,,,,,,, True,, T...|Food, Chocolatier...|   Pittsburgh|[10:0-18:0, 10:0-...|      1|    40.438232|     -79.998615|St Moritz Chocola...|      15219|           3|  4.5|   PA|\n",
      "|1NmGVWYlF4iMngM6a...|7211 E Independen...|[,, 'none', {'rom...|Restaurants, Viet...|    Charlotte|[10:0-21:0, 10:0-...|      1|   35.1638118|    -80.7389582|       Pho Huong Que|      28227|         135|  4.0|   NC|\n",
      "|1RFIVcZYV77tGIwVV...|  639 Annette Street|[,,,,,,,,,, {'gar...|Restaurants, Food...|      Toronto|[7:30-18:0,, 8:0-...|      0|    43.659328|    -79.4826374|      More Than Pies|    M6S 2C5|           4|  4.5|   ON|\n",
      "|1UwaMUnVKeWcV14qv...|    3259 Dufferin St|[,, u'beer_and_wi...|Japanese, Restaur...|   North York|[11:0-23:0,, 10:3...|      1|   43.7206501|     -79.455697|Yuki Japanese & K...|    M6A 2T2|          56|  3.5|   ON|\n",
      "|1bPL4k_Ti8to01tI_...|2398 W Roosevelt ...|[,, 'none', {'tou...|Greek, Diners, So...|       Monroe|[6:0-22:0, 6:0-21...|      1|   35.0112279|    -80.5646015|    Showmars- Monroe|      28110|          16|  3.0|   NC|\n",
      "|1hBmklxIBhw9nu9Nj...|20210 Henderson R...|[,, u'full_bar', ...|Dive Bars, Nightl...|    Cornelius|[11:0-22:0, 0:0-0...|      1|   35.4875754|     -80.888148|       Hello, Sailor|      28031|         529|  3.5|   NC|\n",
      "|1zZbXM8AEEvA7I1wL...|90 Burnhamthorpe ...|[,, u'full_bar', ...|Asian Fusion, Tha...|  Mississauga|                null|      0|   43.5912955|     -79.636863|        Spring Rolls|    L5B 3Y3|          66|  3.0|   ON|\n",
      "|2-l_q7HBRak5i6X46...|   111 2nd Avenue SE|[,, u'none', {'ro...|Food, Desserts, C...|      Calgary|[11:0-1:0, 11:0-2...|      0|    51.050889|    -114.061939|   The Dessert House|    T2G 0B2|          21|  3.0|   AB|\n",
      "|20htfKeteS2n4KYyV...|7155 Grand Montec...|[,,,,,,,,, True, ...|Food, Coffee & Te...|    Las Vegas|                null|      0|   36.2914747|   -115.2845673|       Dunkin Donuts|      89149|           6|  2.5|   NV|\n",
      "+--------------------+--------------------+--------------------+--------------------+-------------+--------------------+-------+-------------+---------------+--------------------+-----------+------------+-----+-----+\n",
      "only showing top 20 rows\n",
      "\n"
     ]
    },
    {
     "data": {
      "text/plain": [
       "78679"
      ]
     },
     "execution_count": 47,
     "metadata": {},
     "output_type": "execute_result"
    }
   ],
   "source": [
    "# db_vector.write.format('jdbc').mode('overwrite').option(\"url\", \"jdbc:mysql://dsci551-project.cjy5mlvqnx2k.us-west-1.rds.amazonaws.com:3306/restaurants_info\").option(\"dbtable\", \"restaurant_vector\").option(\"user\", \"admin\").option(\"password\", \"password\").save()\n",
    "db_vector.write.format('jdbc').mode('overwrite').option(\"url\", \"jdbc:mysql://database-1.cjy5mlvqnx2k.us-west-1.rds.amazonaws.com:3306/restaurant\").option(\"dbtable\", \"restaurant_vector\").option(\"user\", \"root\").option(\"password\", \"wangyinuo696683\").save()\n",
    "restaurant_df.show()\n",
    "restaurant_df.count()"
   ]
  },
  {
   "cell_type": "code",
   "execution_count": 29,
   "metadata": {},
   "outputs": [],
   "source": [
    "# restaurant_df.write.format('jdbc').mode('overwrite').option(\"url\", \"jdbc:mysql://dsci551-project.cjy5mlvqnx2k.us-west-1.rds.amazonaws.com:3306/restaurants_info\").option(\"dbtable\", \"restaurant_basic_info\").option(\"user\", \"admin\").option(\"password\", \"password\").save()"
   ]
  },
  {
   "cell_type": "code",
   "execution_count": null,
   "metadata": {},
   "outputs": [],
   "source": []
  },
  {
   "cell_type": "code",
   "execution_count": 84,
   "metadata": {},
   "outputs": [],
   "source": []
  },
  {
   "cell_type": "code",
   "execution_count": null,
   "metadata": {},
   "outputs": [],
   "source": []
  }
 ],
 "metadata": {
  "kernelspec": {
   "display_name": "Python 3",
   "language": "python",
   "name": "python3"
  },
  "language_info": {
   "codemirror_mode": {
    "name": "ipython",
    "version": 3
   },
   "file_extension": ".py",
   "mimetype": "text/x-python",
   "name": "python",
   "nbconvert_exporter": "python",
   "pygments_lexer": "ipython3",
   "version": "3.7.1"
  }
 },
 "nbformat": 4,
 "nbformat_minor": 2
}
