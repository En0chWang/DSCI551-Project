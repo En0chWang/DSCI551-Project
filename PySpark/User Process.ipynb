{
 "cells": [
  {
   "cell_type": "code",
   "execution_count": 1,
   "metadata": {},
   "outputs": [],
   "source": [
    "import json\n",
    "from pyspark.sql import SparkSession\n",
    "from pyspark import SparkConf, SparkContext, sql\n",
    "spark = SparkSession.builder.appName('User Cleaning').getOrCreate()"
   ]
  },
  {
   "cell_type": "code",
   "execution_count": 4,
   "metadata": {},
   "outputs": [
    {
     "name": "stdout",
     "output_type": "stream",
     "text": [
      "+-------------+---------------+---------------+----------------+--------------+---------------+---------------+---------------+-----------------+----------------+------------------+-----------------+----+--------------------+----+--------------------+-----+------------+------------+------+--------------------+-------------------+\n",
      "|average_stars|compliment_cool|compliment_cute|compliment_funny|compliment_hot|compliment_list|compliment_more|compliment_note|compliment_photos|compliment_plain|compliment_profile|compliment_writer|cool|               elite|fans|             friends|funny|        name|review_count|useful|             user_id|      yelping_since|\n",
      "+-------------+---------------+---------------+----------------+--------------+---------------+---------------+---------------+-----------------+----------------+------------------+-----------------+----+--------------------+----+--------------------+-----+------------+------------+------+--------------------+-------------------+\n",
      "|         3.57|             22|              0|              22|             3|              1|              2|             11|                0|              15|                 1|               10| 227|                    |  14|oeMvJh94PiGQnx_6G...|  225|      Rafael|         553|   628|ntlvfPzc8eglqvk92...|2007-07-06 03:27:11|\n",
      "|         3.84|             63|              2|              63|            36|              1|              4|             33|                5|              37|                 5|               21| 400|2008,2009,2010,20...|  27|ly7EnE8leJmyqyePV...|  316|    Michelle|         564|   790|FOBRPlBHa3WPHFB5q...|2008-04-28 01:29:25|\n",
      "|         3.44|             17|              1|              17|             9|              0|              6|              3|                1|               7|                 0|                4| 103|                2010|   5|Uwlk0txjQBPw_JhHs...|  125|      Martin|          60|   151|zZUnPeh2hEp0WydbA...|2008-08-28 23:40:05|\n",
      "|         3.08|              7|              0|               7|             2|              0|              1|              7|                0|              14|                 0|                2|  84|                2009|   6|iog3Nyg1i4jeumiTV...|  160|        John|         206|   233|QaELAmRcDc5TfJEyl...|2008-09-20 00:08:14|\n",
      "|         4.37|             31|              1|              31|             8|              1|              9|             22|               31|              28|                 2|               19| 512|2009,2010,2011,20...|  78|3W3ZMSthojCUirKEq...|  400|        Anne|         485|  1265|xvu8G900tezTzbbfq...|2008-08-09 00:30:27|\n",
      "|         2.88|             32|              7|              32|            24|              2|             16|             60|                9|              36|                 7|                8| 155|                2007|  15|E-fXXmALnZTPmzzL6...|  192|       Steve|         186|   642|z5_82komKV3mI4ASG...|2007-02-27 07:09:40|\n",
      "|          4.0|              0|              0|               0|             0|              0|              0|              2|                1|               3|                 0|                0|   6|                    |   0|1pKOc55fFx09J5t2r...|    4|      Stuart|          12|    29|ttumcu6hWshk_EJVW...|2010-05-12 16:30:08|\n",
      "|         3.63|            623|             35|             623|           483|             24|             81|            193|              172|             541|                62|              293|2878|2011,2012,2013,20...| 137|c-Dja5bexzEWBufNs...| 2446|    Jennifer|         822|  4127|f4_MRNHvN-yRn7EA8...|2011-01-17 00:18:23|\n",
      "|         3.75|              0|              0|               0|             0|              0|              3|              3|                1|               4|                 0|                2|  34|                    |   4|YwaKGmRNnSa3R3N4H...|   21|      Justin|          14|    68|UYACF30806j2mfbB5...|2007-07-24 23:55:21|\n",
      "|          4.1|             37|              5|              37|            39|              3|              5|             18|                5|              24|                 1|               17| 426|           2008,2009|  31|tnfVwTpuPlR6W2xEA...|  372|      Claire|         218|   587|QG13XBbgHWydzThRB...|2007-06-04 00:14:10|\n",
      "|          3.8|              2|              0|               2|             5|              0|              0|              1|                0|               4|                 1|                2|   8|                    |   5|FnTvI5HtztNRhrNGp...|    0|         Nic|           5|     6|f6YuZP6iennHFVlnF...|2008-08-10 12:57:20|\n",
      "|         3.63|             76|              0|              76|            42|              1|              8|             19|                6|              48|                 3|               14| 312|2010,2011,2012,20...|  13|OGa2q6LvuQLYFUG_R...|  244|        Jeff|         405|   799|I_6wY8_RsewziNnKh...|2010-08-05 18:42:29|\n",
      "|         3.37|            135|             13|             135|           212|              7|             11|            120|               72|             150|                11|               42|1832|2011,2012,2013,20...| 197|rt1KveqwFMnkN6dXK...| 1281|  Lisa Marie|         666|  2993|q-v8elVPvKz0KvK69...|2009-05-19 01:42:25|\n",
      "|          4.5|              1|              1|               1|             0|              0|              1|              0|                0|               0|                 0|                0|  14|                    |   0|XEHZoTDWjw3w-gcQy...|    9|          TJ|           6|    16|HwPGLzF_uXB3MF8bc...|2009-01-02 19:09:32|\n",
      "|         4.17|              3|              0|               3|             0|              0|              3|              0|                0|               0|                 0|                0|  22|                    |   4|qExR8NN0q7PZBQpNO...|   27|        Eric|          51|   116|y4UuVowA9i3zj2hHy...|2008-07-30 03:30:09|\n",
      "|         3.82|             50|              1|              50|            22|              1|              4|             52|                5|             151|                 4|               33| 361|2010,2011,2012,20...|  31|JUsNVy1vopeN61geW...|  251|Evan Thoreau|         315|   658|1WBxJ2r3A2QYfRSEz...|2009-10-30 15:05:44|\n",
      "|         3.91|              7|              0|               7|             9|              0|              0|             10|                5|              15|                 0|               11| 102| 2010,2011,2012,2013|  11|DN0MGxAPkf9PLoogs...|   82|      Daniel|         180|   247|-TT5e-YQU9xLb1JAG...|2008-06-01 18:09:54|\n",
      "|         2.21|              0|              0|               0|             0|              0|              0|              1|                0|               1|                 0|                0|   1|                    |   1|P7X4XYW_bmEo_ccaH...|    7|        Drew|          15|    17|6bbHSJ0PrgSxh7e5n...|2011-04-04 01:57:51|\n",
      "|         3.88|             10|              1|              10|             5|              0|              3|              4|                0|               6|                 0|                6| 109|           2012,2013|   7|ZIoSgXGRMfq39eW6-...|  109|     Rebecca|         106|   252|4VmuXuSRhv5UxYUy3...|2008-10-26 03:13:07|\n",
      "|         3.79|             24|              4|              24|            17|              0|              3|             15|                4|              15|                 3|                8| 205|                    |  26|u3RmNoK4k-mbnyfyW...|  116|         Kym|         193|   391|pVU2DdtBFppBAX5G5...|2008-08-20 18:15:01|\n",
      "+-------------+---------------+---------------+----------------+--------------+---------------+---------------+---------------+-----------------+----------------+------------------+-----------------+----+--------------------+----+--------------------+-----+------------+------------+------+--------------------+-------------------+\n",
      "only showing top 20 rows\n",
      "\n"
     ]
    }
   ],
   "source": [
    "path = '/Users/wangyinuo/Desktop/DSCI551/project/yelp_dataset/yelp_academic_dataset_user.json'\n",
    "user_df = spark.read.json(path)\n",
    "user_df.show()"
   ]
  },
  {
   "cell_type": "code",
   "execution_count": 5,
   "metadata": {},
   "outputs": [
    {
     "name": "stdout",
     "output_type": "stream",
     "text": [
      "+--------------------+------------+-------------+-------------------+----+\n",
      "|             user_id|        name|average_stars|      yelping_since|fans|\n",
      "+--------------------+------------+-------------+-------------------+----+\n",
      "|ntlvfPzc8eglqvk92...|      Rafael|         3.57|2007-07-06 03:27:11|  14|\n",
      "|FOBRPlBHa3WPHFB5q...|    Michelle|         3.84|2008-04-28 01:29:25|  27|\n",
      "|zZUnPeh2hEp0WydbA...|      Martin|         3.44|2008-08-28 23:40:05|   5|\n",
      "|QaELAmRcDc5TfJEyl...|        John|         3.08|2008-09-20 00:08:14|   6|\n",
      "|xvu8G900tezTzbbfq...|        Anne|         4.37|2008-08-09 00:30:27|  78|\n",
      "|z5_82komKV3mI4ASG...|       Steve|         2.88|2007-02-27 07:09:40|  15|\n",
      "|ttumcu6hWshk_EJVW...|      Stuart|          4.0|2010-05-12 16:30:08|   0|\n",
      "|f4_MRNHvN-yRn7EA8...|    Jennifer|         3.63|2011-01-17 00:18:23| 137|\n",
      "|UYACF30806j2mfbB5...|      Justin|         3.75|2007-07-24 23:55:21|   4|\n",
      "|QG13XBbgHWydzThRB...|      Claire|          4.1|2007-06-04 00:14:10|  31|\n",
      "|f6YuZP6iennHFVlnF...|         Nic|          3.8|2008-08-10 12:57:20|   5|\n",
      "|I_6wY8_RsewziNnKh...|        Jeff|         3.63|2010-08-05 18:42:29|  13|\n",
      "|q-v8elVPvKz0KvK69...|  Lisa Marie|         3.37|2009-05-19 01:42:25| 197|\n",
      "|HwPGLzF_uXB3MF8bc...|          TJ|          4.5|2009-01-02 19:09:32|   0|\n",
      "|y4UuVowA9i3zj2hHy...|        Eric|         4.17|2008-07-30 03:30:09|   4|\n",
      "|1WBxJ2r3A2QYfRSEz...|Evan Thoreau|         3.82|2009-10-30 15:05:44|  31|\n",
      "|-TT5e-YQU9xLb1JAG...|      Daniel|         3.91|2008-06-01 18:09:54|  11|\n",
      "|6bbHSJ0PrgSxh7e5n...|        Drew|         2.21|2011-04-04 01:57:51|   1|\n",
      "|4VmuXuSRhv5UxYUy3...|     Rebecca|         3.88|2008-10-26 03:13:07|   7|\n",
      "|pVU2DdtBFppBAX5G5...|         Kym|         3.79|2008-08-20 18:15:01|  26|\n",
      "+--------------------+------------+-------------+-------------------+----+\n",
      "only showing top 20 rows\n",
      "\n"
     ]
    }
   ],
   "source": [
    "user_df = user_df[['user_id', 'name', 'average_stars', 'yelping_since', 'fans']]\n",
    "user_df.show()"
   ]
  },
  {
   "cell_type": "code",
   "execution_count": 6,
   "metadata": {},
   "outputs": [],
   "source": [
    "user_df.write.format('jdbc').mode('overwrite').option(\"url\", \"jdbc:mysql://database-1.cjy5mlvqnx2k.us-west-1.rds.amazonaws.com:3306/restaurant\").option(\"dbtable\", \"user_basic_info\").option(\"user\", \"root\").option(\"password\", \"wangyinuo696683\").save()"
   ]
  },
  {
   "cell_type": "code",
   "execution_count": null,
   "metadata": {},
   "outputs": [],
   "source": []
  }
 ],
 "metadata": {
  "kernelspec": {
   "display_name": "Python 3",
   "language": "python",
   "name": "python3"
  },
  "language_info": {
   "codemirror_mode": {
    "name": "ipython",
    "version": 3
   },
   "file_extension": ".py",
   "mimetype": "text/x-python",
   "name": "python",
   "nbconvert_exporter": "python",
   "pygments_lexer": "ipython3",
   "version": "3.7.1"
  }
 },
 "nbformat": 4,
 "nbformat_minor": 2
}
