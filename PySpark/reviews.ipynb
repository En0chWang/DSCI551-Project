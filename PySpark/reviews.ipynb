{
 "cells": [
  {
   "cell_type": "code",
   "execution_count": 1,
   "metadata": {},
   "outputs": [],
   "source": [
    "import json\n",
    "from pyspark.sql import SparkSession\n",
    "from pyspark import SparkConf, SparkContext, sql\n",
    "spark = SparkSession.builder.appName('Review Cleaning').getOrCreate()"
   ]
  },
  {
   "cell_type": "code",
   "execution_count": 1,
   "metadata": {},
   "outputs": [
    {
     "name": "stdout",
     "output_type": "stream",
     "text": [
      "+--------------------+----+-------------------+-----+--------------------+-----+--------------------+------+--------------------+\n",
      "|         business_id|cool|               date|funny|           review_id|stars|                text|useful|             user_id|\n",
      "+--------------------+----+-------------------+-----+--------------------+-----+--------------------+------+--------------------+\n",
      "|-MhfebM0QIsKt87iD...|   0|2015-04-15 05:21:16|    0|xQY8N_XvtGbearJ5X...|  2.0|As someone who ha...|     5|OwjRMXRC0KyPrIlcj...|\n",
      "|lbrU8StCq3yDfr-QM...|   0|2013-12-07 03:16:52|    1|UmFMZ8PyXZTY2Qcwz...|  1.0|I am actually hor...|     1|nIJD_7ZXHq-FX8byP...|\n",
      "|HQl28KMwrEKHqhFrr...|   0|2015-12-05 03:18:11|    0|LG2ZaYiOgpr2DK_90...|  5.0|I love Deagan's. ...|     1|V34qejxNsCbcgD8C0...|\n",
      "|5JxlZaqCnk1MnbgRi...|   0|2011-05-27 05:30:52|    0|i6g_oA9Yf9Y31qt0w...|  1.0|Dismal, lukewarm,...|     0|ofKDkJKXSKZXu5xJN...|\n",
      "|IS4cv902ykd8wj1TR...|   0|2017-01-14 21:56:57|    0|6TdNDKywdbjoTkize...|  4.0|Oh happy day, fin...|     0|UgMW8bLE0QMJDCkQ1...|\n",
      "|nlxHRv1zXGT0c0K51...|   0|2013-05-07 07:25:25|    0|L2O_INwlrRuoX05KS...|  5.0|This is definitel...|     2|5vD2kmE25YBrbayKh...|\n",
      "|Pthe4qk5xh4n-ef-9...|   0|2015-11-05 23:11:05|    0|ZayJ1zWyWgY9S_TRL...|  5.0|Really good place...|     1|aq_ZxGHiri48TUXJl...|\n",
      "|FNCJpSn0tL9iqoY3J...|   0|2017-07-18 18:31:54|    0|lpFIJYpsvDxyph-kP...|  5.0|Awesome office an...|     0|dsd-KNYKMpx6ma_sR...|\n",
      "|e_BiI4ej1CW1F0EyV...|   0|2015-02-16 06:48:47|    0|JA-xnyHytKiOIHl_z...|  5.0|Most delicious au...|     0|P6apihD4ASf1vpPxH...|\n",
      "|Ws8V970-mQt2X9CwC...|   1|2009-10-13 04:16:41|    0|z4BCgTkfNtCu4XY5L...|  4.0|I have been here ...|     3|jOERvhmK6_lo_XGUB...|\n",
      "+--------------------+----+-------------------+-----+--------------------+-----+--------------------+------+--------------------+\n",
      "only showing top 10 rows\n",
      "\n"
     ]
    }
   ],
   "source": [
    "path = '/Users/wangyinuo/Desktop/DSCI551/project/yelp_dataset/yelp_academic_dataset_review.json'\n",
    "review_df = spark.read.json(path)\n",
    "review_df.show(10)"
   ]
  },
  {
   "cell_type": "code",
   "execution_count": 2,
   "metadata": {},
   "outputs": [],
   "source": [
    "from pyspark.sql.functions import desc\n",
    "import pyspark.sql.functions as fc \n",
    "\n",
    "from pyspark.sql.window import Window\n",
    "from pyspark.sql.functions import rank, col\n",
    "\n",
    "window = Window.partitionBy(review_df['business_id']).orderBy(review_df['useful'].desc())\n",
    "\n",
    "review_df = review_df.select('*', rank().over(window).alias('rank')).filter(col('rank') <= 1)"
   ]
  },
  {
   "cell_type": "code",
   "execution_count": 3,
   "metadata": {},
   "outputs": [
    {
     "data": {
      "text/plain": [
       "309006"
      ]
     },
     "execution_count": 3,
     "metadata": {},
     "output_type": "execute_result"
    }
   ],
   "source": [
    "review_df.count()"
   ]
  },
  {
   "cell_type": "code",
   "execution_count": 4,
   "metadata": {},
   "outputs": [
    {
     "name": "stdout",
     "output_type": "stream",
     "text": [
      "+--------------------+----+-------------------+-----+--------------------+-----+--------------------+------+--------------------+----+\n",
      "|         business_id|cool|               date|funny|           review_id|stars|                text|useful|             user_id|rank|\n",
      "+--------------------+----+-------------------+-----+--------------------+-----+--------------------+------+--------------------+----+\n",
      "|--9e1ONYQuAa-CB_R...|  74|2019-04-01 02:32:48|   42|60Y3zgfqkgRcpor47...|  4.0|Wanting a good st...|    80|VmQdv7xMWiyejzxJz...|   1|\n",
      "|-6c_bJblLXUwoWfmY...|   1|2017-10-27 23:17:40|    0|i3d2wy9jW7lca2Vg4...|  1.0|I would not recom...|    32|PK3EmRHbtPxxuJuEy...|   1|\n",
      "|-ElDqujEn1u64ynQr...|   0|2014-07-07 19:28:06|    0|2ApaSUqsJ5_6-hxY8...|  5.0|Started my custod...|     4|miVLt4_ELUb95v7gZ...|   1|\n",
      "|-Gh9a15ijNii-8rnp...|   0|2013-12-16 21:37:43|    2|DZxjGpaFaf7OBS_w8...|  5.0|I purchased a Vol...|     4|9xJnNdFzRP6ZophVy...|   1|\n",
      "|-I06hkMFrX0KBqu61...|   1|2013-01-16 22:25:45|    0|jL27quLBLu5r5ZIQM...|  5.0|The teachers are ...|     2|uQeGv9QvdomRpEJAN...|   1|\n",
      "|-Qb6U1MotJfpt6OU_...|   3|2018-09-15 00:56:52|    2|KMtdRikgBauHHyl1e...|  5.0|Chris is a litera...|     5|u3ZPMVVEzneq8x856...|   1|\n",
      "|-RRnldwSqCZT6OpuW...|   0|2009-12-09 00:01:34|    0|3Tw79e5L6bxqswzso...|  5.0|We are now closed...|     2|DQGJIbXTgaugbKpsG...|   1|\n",
      "|-Spbg8zeDHA49Ys_f...|   0|2019-11-04 20:17:32|    0|K08qH_XbhO43LAYJG...|  5.0|The Elf Squad is ...|     0|1bQUKykrsQdiveKkE...|   1|\n",
      "|-Spbg8zeDHA49Ys_f...|   0|2019-11-04 00:07:24|    0|r_QM9KOiPwTDyLTHb...|  5.0|The Elf Squad wer...|     0|ToRb9CyQOnIbfS_3W...|   1|\n",
      "|-Spbg8zeDHA49Ys_f...|   0|2019-12-09 03:33:18|    0|70P-N6zKaEg6lNe5K...|  5.0|Elf Squad did an ...|     0|o4ouynDm3Ii3S6O8N...|   1|\n",
      "|-TGwtTiieh_JLml5_...|   2|2013-12-10 04:44:46|    0|u62FfEwT0YgKxRyN8...|  3.0|Always busy here....|     2|af3s6bbbbH7oOmXsX...|   1|\n",
      "|-VAsjhmAbKF3Pb_-8...|   1|2016-03-03 02:35:02|    1|aFi5kdSur3b38-BXG...|  1.0|Little road trip ...|     3|etdAg2O1OXYrYHyUK...|   1|\n",
      "|-WGjtt88-6zBiIUiK...|   0|2014-08-26 01:53:28|    0|L3STpW9BZMbCQRgir...|  5.0|This place is fan...|     1|_zPT9ZmR5-nUfsprz...|   1|\n",
      "|-cxD1NimFldATDUsN...|   8|2013-05-11 17:21:06|    7|TS66wZCd1gF31pSnU...|  3.0|While on this sid...|    15|Fv0e9RIV9jw5TX3ct...|   1|\n",
      "|-m8v19CXrGEYr3PAL...|   1|2009-07-10 21:57:42|    3|BMSmMIPokTPRs7-mL...|  3.0|This is your aver...|     2|i8hCMZN-0bHENsHZK...|   1|\n",
      "|-qL-wX-UuMaHDBA2X...|   8|2012-02-02 04:48:06|    7|pzMuQ-xSCMDkwRA5z...|  5.0|I drove into this...|    12|YztPBAV6L8e0Te_3_...|   1|\n",
      "|-r8SvItXXG6_T3mP5...|   0|2011-09-13 02:39:51|    0|o3XVOIwmeCf1PG5cb...|  5.0|Known to some as ...|     1|KhzsXrJN9PEk0gwVl...|   1|\n",
      "|-r8SvItXXG6_T3mP5...|   1|2010-06-19 00:32:53|    0|3RcD_6YFWFjlc38Qn...|  4.0|Terrific little c...|     1|339mHbEM3hqGhXG2_...|   1|\n",
      "|-r8SvItXXG6_T3mP5...|   1|2018-06-05 22:06:35|    1|ml2qBj_cit_Yx7iz2...|  2.0|I would have to d...|     1|z6VZrWNIAVw8Nv1w0...|   1|\n",
      "|-r8SvItXXG6_T3mP5...|   1|2019-05-04 19:16:26|    1|7qnpiJiwrpdjBEVpY...|  4.0|It's about time t...|     1|rYcX_4HVmNZhC_xHW...|   1|\n",
      "+--------------------+----+-------------------+-----+--------------------+-----+--------------------+------+--------------------+----+\n",
      "only showing top 20 rows\n",
      "\n"
     ]
    }
   ],
   "source": [
    "review_df.show()"
   ]
  },
  {
   "cell_type": "code",
   "execution_count": null,
   "metadata": {},
   "outputs": [],
   "source": []
  }
 ],
 "metadata": {
  "kernelspec": {
   "display_name": "Python 3",
   "language": "python",
   "name": "python3"
  },
  "language_info": {
   "codemirror_mode": {
    "name": "ipython",
    "version": 3
   },
   "file_extension": ".py",
   "mimetype": "text/x-python",
   "name": "python",
   "nbconvert_exporter": "python",
   "pygments_lexer": "ipython3",
   "version": "3.7.1"
  }
 },
 "nbformat": 4,
 "nbformat_minor": 2
}
